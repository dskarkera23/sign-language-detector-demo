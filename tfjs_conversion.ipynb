{
  "nbformat": 4,
  "nbformat_minor": 0,
  "metadata": {
    "colab": {
      "provenance": [],
      "mount_file_id": "1KHhQX2DvfTgM7YhDmaQkeY_uhWaA8-Hr",
      "authorship_tag": "ABX9TyOSJCzPfJ9d6ZWaK4YO62H3",
      "include_colab_link": true
    },
    "kernelspec": {
      "name": "python3",
      "display_name": "Python 3"
    },
    "language_info": {
      "name": "python"
    }
  },
  "cells": [
    {
      "cell_type": "markdown",
      "metadata": {
        "id": "view-in-github",
        "colab_type": "text"
      },
      "source": [
        "<a href=\"https://colab.research.google.com/github/dskarkera23/sign-language-detector-demo/blob/main/tfjs_conversion.ipynb\" target=\"_parent\"><img src=\"https://colab.research.google.com/assets/colab-badge.svg\" alt=\"Open In Colab\"/></a>"
      ]
    },
    {
      "cell_type": "code",
      "execution_count": null,
      "metadata": {
        "colab": {
          "base_uri": "https://localhost:8080/"
        },
        "id": "3VsTsfhb8ghM",
        "outputId": "a57a6df5-d894-4bc9-bd09-eb84479579c1"
      },
      "outputs": [
        {
          "output_type": "stream",
          "name": "stdout",
          "text": [
            "Requirement already satisfied: tensorflow in /usr/local/lib/python3.10/dist-packages (2.15.0)\n",
            "Collecting mediapipe\n",
            "  Downloading mediapipe-0.10.11-cp310-cp310-manylinux_2_17_x86_64.manylinux2014_x86_64.whl (35.6 MB)\n",
            "\u001b[2K     \u001b[90m━━━━━━━━━━━━━━━━━━━━━━━━━━━━━━━━━━━━━━━━\u001b[0m \u001b[32m35.6/35.6 MB\u001b[0m \u001b[31m14.5 MB/s\u001b[0m eta \u001b[36m0:00:00\u001b[0m\n",
            "\u001b[?25hRequirement already satisfied: scikit-learn in /usr/local/lib/python3.10/dist-packages (1.2.2)\n",
            "Requirement already satisfied: matplotlib in /usr/local/lib/python3.10/dist-packages (3.7.1)\n",
            "Requirement already satisfied: absl-py>=1.0.0 in /usr/local/lib/python3.10/dist-packages (from tensorflow) (1.4.0)\n",
            "Requirement already satisfied: astunparse>=1.6.0 in /usr/local/lib/python3.10/dist-packages (from tensorflow) (1.6.3)\n",
            "Requirement already satisfied: flatbuffers>=23.5.26 in /usr/local/lib/python3.10/dist-packages (from tensorflow) (24.3.25)\n",
            "Requirement already satisfied: gast!=0.5.0,!=0.5.1,!=0.5.2,>=0.2.1 in /usr/local/lib/python3.10/dist-packages (from tensorflow) (0.5.4)\n",
            "Requirement already satisfied: google-pasta>=0.1.1 in /usr/local/lib/python3.10/dist-packages (from tensorflow) (0.2.0)\n",
            "Requirement already satisfied: h5py>=2.9.0 in /usr/local/lib/python3.10/dist-packages (from tensorflow) (3.9.0)\n",
            "Requirement already satisfied: libclang>=13.0.0 in /usr/local/lib/python3.10/dist-packages (from tensorflow) (18.1.1)\n",
            "Requirement already satisfied: ml-dtypes~=0.2.0 in /usr/local/lib/python3.10/dist-packages (from tensorflow) (0.2.0)\n",
            "Requirement already satisfied: numpy<2.0.0,>=1.23.5 in /usr/local/lib/python3.10/dist-packages (from tensorflow) (1.25.2)\n",
            "Requirement already satisfied: opt-einsum>=2.3.2 in /usr/local/lib/python3.10/dist-packages (from tensorflow) (3.3.0)\n",
            "Requirement already satisfied: packaging in /usr/local/lib/python3.10/dist-packages (from tensorflow) (24.0)\n",
            "Requirement already satisfied: protobuf!=4.21.0,!=4.21.1,!=4.21.2,!=4.21.3,!=4.21.4,!=4.21.5,<5.0.0dev,>=3.20.3 in /usr/local/lib/python3.10/dist-packages (from tensorflow) (3.20.3)\n",
            "Requirement already satisfied: setuptools in /usr/local/lib/python3.10/dist-packages (from tensorflow) (67.7.2)\n",
            "Requirement already satisfied: six>=1.12.0 in /usr/local/lib/python3.10/dist-packages (from tensorflow) (1.16.0)\n",
            "Requirement already satisfied: termcolor>=1.1.0 in /usr/local/lib/python3.10/dist-packages (from tensorflow) (2.4.0)\n",
            "Requirement already satisfied: typing-extensions>=3.6.6 in /usr/local/lib/python3.10/dist-packages (from tensorflow) (4.11.0)\n",
            "Requirement already satisfied: wrapt<1.15,>=1.11.0 in /usr/local/lib/python3.10/dist-packages (from tensorflow) (1.14.1)\n",
            "Requirement already satisfied: tensorflow-io-gcs-filesystem>=0.23.1 in /usr/local/lib/python3.10/dist-packages (from tensorflow) (0.36.0)\n",
            "Requirement already satisfied: grpcio<2.0,>=1.24.3 in /usr/local/lib/python3.10/dist-packages (from tensorflow) (1.62.1)\n",
            "Requirement already satisfied: tensorboard<2.16,>=2.15 in /usr/local/lib/python3.10/dist-packages (from tensorflow) (2.15.2)\n",
            "Requirement already satisfied: tensorflow-estimator<2.16,>=2.15.0 in /usr/local/lib/python3.10/dist-packages (from tensorflow) (2.15.0)\n",
            "Requirement already satisfied: keras<2.16,>=2.15.0 in /usr/local/lib/python3.10/dist-packages (from tensorflow) (2.15.0)\n",
            "Requirement already satisfied: attrs>=19.1.0 in /usr/local/lib/python3.10/dist-packages (from mediapipe) (23.2.0)\n",
            "Requirement already satisfied: jax in /usr/local/lib/python3.10/dist-packages (from mediapipe) (0.4.26)\n",
            "Requirement already satisfied: jaxlib in /usr/local/lib/python3.10/dist-packages (from mediapipe) (0.4.26+cuda12.cudnn89)\n",
            "Requirement already satisfied: torch in /usr/local/lib/python3.10/dist-packages (from mediapipe) (2.2.1+cu121)\n",
            "Requirement already satisfied: opencv-contrib-python in /usr/local/lib/python3.10/dist-packages (from mediapipe) (4.8.0.76)\n",
            "Collecting sounddevice>=0.4.4 (from mediapipe)\n",
            "  Downloading sounddevice-0.4.6-py3-none-any.whl (31 kB)\n",
            "Requirement already satisfied: scipy>=1.3.2 in /usr/local/lib/python3.10/dist-packages (from scikit-learn) (1.11.4)\n",
            "Requirement already satisfied: joblib>=1.1.1 in /usr/local/lib/python3.10/dist-packages (from scikit-learn) (1.4.0)\n",
            "Requirement already satisfied: threadpoolctl>=2.0.0 in /usr/local/lib/python3.10/dist-packages (from scikit-learn) (3.4.0)\n",
            "Requirement already satisfied: contourpy>=1.0.1 in /usr/local/lib/python3.10/dist-packages (from matplotlib) (1.2.1)\n",
            "Requirement already satisfied: cycler>=0.10 in /usr/local/lib/python3.10/dist-packages (from matplotlib) (0.12.1)\n",
            "Requirement already satisfied: fonttools>=4.22.0 in /usr/local/lib/python3.10/dist-packages (from matplotlib) (4.51.0)\n",
            "Requirement already satisfied: kiwisolver>=1.0.1 in /usr/local/lib/python3.10/dist-packages (from matplotlib) (1.4.5)\n",
            "Requirement already satisfied: pillow>=6.2.0 in /usr/local/lib/python3.10/dist-packages (from matplotlib) (9.4.0)\n",
            "Requirement already satisfied: pyparsing>=2.3.1 in /usr/local/lib/python3.10/dist-packages (from matplotlib) (3.1.2)\n",
            "Requirement already satisfied: python-dateutil>=2.7 in /usr/local/lib/python3.10/dist-packages (from matplotlib) (2.8.2)\n",
            "Requirement already satisfied: wheel<1.0,>=0.23.0 in /usr/local/lib/python3.10/dist-packages (from astunparse>=1.6.0->tensorflow) (0.43.0)\n",
            "Requirement already satisfied: CFFI>=1.0 in /usr/local/lib/python3.10/dist-packages (from sounddevice>=0.4.4->mediapipe) (1.16.0)\n",
            "Requirement already satisfied: google-auth<3,>=1.6.3 in /usr/local/lib/python3.10/dist-packages (from tensorboard<2.16,>=2.15->tensorflow) (2.27.0)\n",
            "Requirement already satisfied: google-auth-oauthlib<2,>=0.5 in /usr/local/lib/python3.10/dist-packages (from tensorboard<2.16,>=2.15->tensorflow) (1.2.0)\n",
            "Requirement already satisfied: markdown>=2.6.8 in /usr/local/lib/python3.10/dist-packages (from tensorboard<2.16,>=2.15->tensorflow) (3.6)\n",
            "Requirement already satisfied: requests<3,>=2.21.0 in /usr/local/lib/python3.10/dist-packages (from tensorboard<2.16,>=2.15->tensorflow) (2.31.0)\n",
            "Requirement already satisfied: tensorboard-data-server<0.8.0,>=0.7.0 in /usr/local/lib/python3.10/dist-packages (from tensorboard<2.16,>=2.15->tensorflow) (0.7.2)\n",
            "Requirement already satisfied: werkzeug>=1.0.1 in /usr/local/lib/python3.10/dist-packages (from tensorboard<2.16,>=2.15->tensorflow) (3.0.2)\n",
            "Requirement already satisfied: filelock in /usr/local/lib/python3.10/dist-packages (from torch->mediapipe) (3.13.4)\n",
            "Requirement already satisfied: sympy in /usr/local/lib/python3.10/dist-packages (from torch->mediapipe) (1.12)\n",
            "Requirement already satisfied: networkx in /usr/local/lib/python3.10/dist-packages (from torch->mediapipe) (3.3)\n",
            "Requirement already satisfied: jinja2 in /usr/local/lib/python3.10/dist-packages (from torch->mediapipe) (3.1.3)\n",
            "Requirement already satisfied: fsspec in /usr/local/lib/python3.10/dist-packages (from torch->mediapipe) (2023.6.0)\n",
            "Collecting nvidia-cuda-nvrtc-cu12==12.1.105 (from torch->mediapipe)\n",
            "  Using cached nvidia_cuda_nvrtc_cu12-12.1.105-py3-none-manylinux1_x86_64.whl (23.7 MB)\n",
            "Collecting nvidia-cuda-runtime-cu12==12.1.105 (from torch->mediapipe)\n",
            "  Using cached nvidia_cuda_runtime_cu12-12.1.105-py3-none-manylinux1_x86_64.whl (823 kB)\n",
            "Collecting nvidia-cuda-cupti-cu12==12.1.105 (from torch->mediapipe)\n",
            "  Using cached nvidia_cuda_cupti_cu12-12.1.105-py3-none-manylinux1_x86_64.whl (14.1 MB)\n",
            "Collecting nvidia-cudnn-cu12==8.9.2.26 (from torch->mediapipe)\n",
            "  Using cached nvidia_cudnn_cu12-8.9.2.26-py3-none-manylinux1_x86_64.whl (731.7 MB)\n",
            "Collecting nvidia-cublas-cu12==12.1.3.1 (from torch->mediapipe)\n",
            "  Using cached nvidia_cublas_cu12-12.1.3.1-py3-none-manylinux1_x86_64.whl (410.6 MB)\n",
            "Collecting nvidia-cufft-cu12==11.0.2.54 (from torch->mediapipe)\n",
            "  Using cached nvidia_cufft_cu12-11.0.2.54-py3-none-manylinux1_x86_64.whl (121.6 MB)\n",
            "Collecting nvidia-curand-cu12==10.3.2.106 (from torch->mediapipe)\n",
            "  Using cached nvidia_curand_cu12-10.3.2.106-py3-none-manylinux1_x86_64.whl (56.5 MB)\n",
            "Collecting nvidia-cusolver-cu12==11.4.5.107 (from torch->mediapipe)\n",
            "  Using cached nvidia_cusolver_cu12-11.4.5.107-py3-none-manylinux1_x86_64.whl (124.2 MB)\n",
            "Collecting nvidia-cusparse-cu12==12.1.0.106 (from torch->mediapipe)\n",
            "  Using cached nvidia_cusparse_cu12-12.1.0.106-py3-none-manylinux1_x86_64.whl (196.0 MB)\n",
            "Collecting nvidia-nccl-cu12==2.19.3 (from torch->mediapipe)\n",
            "  Using cached nvidia_nccl_cu12-2.19.3-py3-none-manylinux1_x86_64.whl (166.0 MB)\n",
            "Collecting nvidia-nvtx-cu12==12.1.105 (from torch->mediapipe)\n",
            "  Using cached nvidia_nvtx_cu12-12.1.105-py3-none-manylinux1_x86_64.whl (99 kB)\n",
            "Requirement already satisfied: triton==2.2.0 in /usr/local/lib/python3.10/dist-packages (from torch->mediapipe) (2.2.0)\n",
            "Collecting nvidia-nvjitlink-cu12 (from nvidia-cusolver-cu12==11.4.5.107->torch->mediapipe)\n",
            "  Using cached nvidia_nvjitlink_cu12-12.4.127-py3-none-manylinux2014_x86_64.whl (21.1 MB)\n",
            "Requirement already satisfied: pycparser in /usr/local/lib/python3.10/dist-packages (from CFFI>=1.0->sounddevice>=0.4.4->mediapipe) (2.22)\n",
            "Requirement already satisfied: cachetools<6.0,>=2.0.0 in /usr/local/lib/python3.10/dist-packages (from google-auth<3,>=1.6.3->tensorboard<2.16,>=2.15->tensorflow) (5.3.3)\n",
            "Requirement already satisfied: pyasn1-modules>=0.2.1 in /usr/local/lib/python3.10/dist-packages (from google-auth<3,>=1.6.3->tensorboard<2.16,>=2.15->tensorflow) (0.4.0)\n",
            "Requirement already satisfied: rsa<5,>=3.1.4 in /usr/local/lib/python3.10/dist-packages (from google-auth<3,>=1.6.3->tensorboard<2.16,>=2.15->tensorflow) (4.9)\n",
            "Requirement already satisfied: requests-oauthlib>=0.7.0 in /usr/local/lib/python3.10/dist-packages (from google-auth-oauthlib<2,>=0.5->tensorboard<2.16,>=2.15->tensorflow) (1.3.1)\n",
            "Requirement already satisfied: charset-normalizer<4,>=2 in /usr/local/lib/python3.10/dist-packages (from requests<3,>=2.21.0->tensorboard<2.16,>=2.15->tensorflow) (3.3.2)\n",
            "Requirement already satisfied: idna<4,>=2.5 in /usr/local/lib/python3.10/dist-packages (from requests<3,>=2.21.0->tensorboard<2.16,>=2.15->tensorflow) (3.6)\n",
            "Requirement already satisfied: urllib3<3,>=1.21.1 in /usr/local/lib/python3.10/dist-packages (from requests<3,>=2.21.0->tensorboard<2.16,>=2.15->tensorflow) (2.0.7)\n",
            "Requirement already satisfied: certifi>=2017.4.17 in /usr/local/lib/python3.10/dist-packages (from requests<3,>=2.21.0->tensorboard<2.16,>=2.15->tensorflow) (2024.2.2)\n",
            "Requirement already satisfied: MarkupSafe>=2.1.1 in /usr/local/lib/python3.10/dist-packages (from werkzeug>=1.0.1->tensorboard<2.16,>=2.15->tensorflow) (2.1.5)\n",
            "Requirement already satisfied: mpmath>=0.19 in /usr/local/lib/python3.10/dist-packages (from sympy->torch->mediapipe) (1.3.0)\n",
            "Requirement already satisfied: pyasn1<0.7.0,>=0.4.6 in /usr/local/lib/python3.10/dist-packages (from pyasn1-modules>=0.2.1->google-auth<3,>=1.6.3->tensorboard<2.16,>=2.15->tensorflow) (0.6.0)\n",
            "Requirement already satisfied: oauthlib>=3.0.0 in /usr/local/lib/python3.10/dist-packages (from requests-oauthlib>=0.7.0->google-auth-oauthlib<2,>=0.5->tensorboard<2.16,>=2.15->tensorflow) (3.2.2)\n",
            "Installing collected packages: nvidia-nvtx-cu12, nvidia-nvjitlink-cu12, nvidia-nccl-cu12, nvidia-curand-cu12, nvidia-cufft-cu12, nvidia-cuda-runtime-cu12, nvidia-cuda-nvrtc-cu12, nvidia-cuda-cupti-cu12, nvidia-cublas-cu12, sounddevice, nvidia-cusparse-cu12, nvidia-cudnn-cu12, nvidia-cusolver-cu12, mediapipe\n",
            "Successfully installed mediapipe-0.10.11 nvidia-cublas-cu12-12.1.3.1 nvidia-cuda-cupti-cu12-12.1.105 nvidia-cuda-nvrtc-cu12-12.1.105 nvidia-cuda-runtime-cu12-12.1.105 nvidia-cudnn-cu12-8.9.2.26 nvidia-cufft-cu12-11.0.2.54 nvidia-curand-cu12-10.3.2.106 nvidia-cusolver-cu12-11.4.5.107 nvidia-cusparse-cu12-12.1.0.106 nvidia-nccl-cu12-2.19.3 nvidia-nvjitlink-cu12-12.4.127 nvidia-nvtx-cu12-12.1.105 sounddevice-0.4.6\n"
          ]
        }
      ],
      "source": [
        "!pip install tensorflow mediapipe scikit-learn matplotlib"
      ]
    },
    {
      "cell_type": "code",
      "source": [
        "import numpy as np\n",
        "import os\n",
        "from matplotlib import pyplot as plt\n",
        "import time\n",
        "import mediapipe as mp"
      ],
      "metadata": {
        "id": "zE0xQxgq827g"
      },
      "execution_count": null,
      "outputs": []
    },
    {
      "cell_type": "code",
      "source": [
        "mp_holistic = mp.solutions.holistic # Holistic model\n",
        "mp_drawing = mp.solutions.drawing_utils # Drawing utilities"
      ],
      "metadata": {
        "id": "N8SVLgqH893T"
      },
      "execution_count": null,
      "outputs": []
    },
    {
      "cell_type": "code",
      "source": [
        "def mediapipe_detection(image, model):\n",
        "    image = cv2.cvtColor(image, cv2.COLOR_BGR2RGB) # COLOR CONVERSION BGR 2 RGB\n",
        "    image.flags.writeable = False                  # Image is no longer writeable\n",
        "    results = model.process(image)                 # Make prediction\n",
        "    image.flags.writeable = True                   # Image is now writeable\n",
        "    image = cv2.cvtColor(image, cv2.COLOR_RGB2BGR) # COLOR COVERSION RGB 2 BGR\n",
        "    return image, results"
      ],
      "metadata": {
        "id": "RUOKD6Xs8_BE"
      },
      "execution_count": null,
      "outputs": []
    },
    {
      "cell_type": "code",
      "source": [
        "def draw_landmarks(image, results):\n",
        "    mp_drawing.draw_landmarks(image, results.face_landmarks, mp_holistic.FACEMESH_CONTOURS) # Draw face connections\n",
        "    mp_drawing.draw_landmarks(image, results.pose_landmarks, mp_holistic.POSE_CONNECTIONS) # Draw pose connections\n",
        "    mp_drawing.draw_landmarks(image, results.left_hand_landmarks, mp_holistic.HAND_CONNECTIONS) # Draw left hand connections\n",
        "    mp_drawing.draw_landmarks(image, results.right_hand_landmarks, mp_holistic.HAND_CONNECTIONS) # Draw right hand connections"
      ],
      "metadata": {
        "id": "nhz9gp2x9A__"
      },
      "execution_count": null,
      "outputs": []
    },
    {
      "cell_type": "code",
      "source": [
        "def draw_styled_landmarks(image, results):\n",
        "    # Draw face connections\n",
        "    mp_drawing.draw_landmarks(image, results.face_landmarks, mp_holistic.FACEMESH_CONTOURS,\n",
        "                             mp_drawing.DrawingSpec(color=(80,110,10), thickness=1, circle_radius=1),\n",
        "                             mp_drawing.DrawingSpec(color=(80,256,121), thickness=1, circle_radius=1)\n",
        "                             )\n",
        "    # Draw pose connections\n",
        "    mp_drawing.draw_landmarks(image, results.pose_landmarks, mp_holistic.POSE_CONNECTIONS,\n",
        "                             mp_drawing.DrawingSpec(color=(80,22,10), thickness=2, circle_radius=4),\n",
        "                             mp_drawing.DrawingSpec(color=(80,44,121), thickness=2, circle_radius=2)\n",
        "                             )\n",
        "    # Draw left hand connections\n",
        "    mp_drawing.draw_landmarks(image, results.left_hand_landmarks, mp_holistic.HAND_CONNECTIONS,\n",
        "                             mp_drawing.DrawingSpec(color=(121,22,76), thickness=2, circle_radius=4),\n",
        "                             mp_drawing.DrawingSpec(color=(121,44,250), thickness=2, circle_radius=2)\n",
        "                             )\n",
        "    # Draw right hand connections\n",
        "    mp_drawing.draw_landmarks(image, results.right_hand_landmarks, mp_holistic.HAND_CONNECTIONS,\n",
        "                             mp_drawing.DrawingSpec(color=(245,117,66), thickness=2, circle_radius=4),\n",
        "                             mp_drawing.DrawingSpec(color=(245,66,230), thickness=2, circle_radius=2)\n",
        "                             )"
      ],
      "metadata": {
        "id": "FaRruPY59G91"
      },
      "execution_count": null,
      "outputs": []
    },
    {
      "cell_type": "code",
      "source": [
        "def extract_keypoints(results):\n",
        "    #pose = np.array([[res.x, res.y, res.z, res.visibility] for res in results.pose_landmarks.landmark]).flatten() if results.pose_landmarks else np.zeros(33*4)\n",
        "    #face = np.array([[res.x, res.y, res.z] for res in results.face_landmarks.landmark]).flatten() if results.face_landmarks else np.zeros(468*3)\n",
        "    lh = np.array([[res.x, res.y, res.z] for res in results.left_hand_landmarks.landmark]).flatten() if results.left_hand_landmarks else np.zeros(21*3)\n",
        "    rh = np.array([[res.x, res.y, res.z] for res in results.right_hand_landmarks.landmark]).flatten() if results.right_hand_landmarks else np.zeros(21*3)\n",
        "    return np.concatenate([lh, rh])"
      ],
      "metadata": {
        "id": "GfzxHzkf9L7i"
      },
      "execution_count": null,
      "outputs": []
    },
    {
      "cell_type": "code",
      "source": [
        "np.load('1.npy')"
      ],
      "metadata": {
        "colab": {
          "base_uri": "https://localhost:8080/"
        },
        "id": "XpDhtzFk9cGQ",
        "outputId": "49e81d59-1d8f-462b-810c-e7987169a482"
      },
      "execution_count": null,
      "outputs": [
        {
          "output_type": "execute_result",
          "data": {
            "text/plain": [
              "array([ 4.70539987e-01,  2.44718075e-01, -7.42542505e-01,  9.99997437e-01,\n",
              "        4.97387260e-01,  2.00791657e-01, -6.91449285e-01,  9.99972761e-01,\n",
              "        5.10462165e-01,  2.03213111e-01, -6.90947413e-01,  9.99986053e-01,\n",
              "        5.23730457e-01,  2.06292018e-01, -6.90048039e-01,  9.99968767e-01,\n",
              "        4.51798975e-01,  1.96991906e-01, -6.79740489e-01,  9.99974489e-01,\n",
              "        4.36802089e-01,  1.95868939e-01, -6.80148005e-01,  9.99988616e-01,\n",
              "        4.22838390e-01,  1.95905551e-01, -6.80180132e-01,  9.99976873e-01,\n",
              "        5.41182399e-01,  2.32862607e-01, -3.73832166e-01,  9.99985635e-01,\n",
              "        4.03028816e-01,  2.26932511e-01, -3.23049098e-01,  9.99993980e-01,\n",
              "        4.97394621e-01,  2.98014462e-01, -6.29819989e-01,  9.99990106e-01,\n",
              "        4.39119339e-01,  2.91649461e-01, -6.16732836e-01,  9.99991417e-01,\n",
              "        6.39846206e-01,  4.93108362e-01, -2.08512142e-01,  9.99992609e-01,\n",
              "        2.95946956e-01,  4.91933465e-01, -1.28221825e-01,  9.99991953e-01,\n",
              "        7.94403672e-01,  8.25756729e-01, -5.68321407e-01,  9.97360766e-01,\n",
              "        9.75868925e-02,  8.15379500e-01, -5.43784022e-01,  9.98383164e-01,\n",
              "        7.57122278e-01,  4.81683582e-01, -1.11852932e+00,  9.99986589e-01,\n",
              "        1.61851376e-01,  4.49220955e-01, -1.24515235e+00,  9.99989748e-01,\n",
              "        7.71135628e-01,  3.82888854e-01, -1.21082795e+00,  9.99946356e-01,\n",
              "        1.48474425e-01,  3.50905836e-01, -1.36499095e+00,  9.99960363e-01,\n",
              "        7.56821752e-01,  3.49425495e-01, -1.14008260e+00,  9.99933004e-01,\n",
              "        1.71840429e-01,  3.21492970e-01, -1.27930582e+00,  9.99950588e-01,\n",
              "        7.34645486e-01,  3.97714943e-01, -1.10722160e+00,  9.99929547e-01,\n",
              "        1.92386061e-01,  3.64415675e-01, -1.23862720e+00,  9.99949515e-01,\n",
              "        5.68849802e-01,  1.05675936e+00, -2.13599559e-02,  5.74017651e-02,\n",
              "        3.60391766e-01,  1.04683006e+00,  2.48122979e-02,  6.75537884e-02,\n",
              "        5.98682046e-01,  1.61725867e+00,  7.98815489e-02,  9.34188574e-05,\n",
              "        3.54696065e-01,  1.62245977e+00,  1.80312306e-01,  8.99221777e-05,\n",
              "        5.87878168e-01,  2.06524253e+00,  5.59045076e-01,  4.26478709e-06,\n",
              "        3.57566088e-01,  2.06100273e+00,  5.33027291e-01,  2.15629029e-06,\n",
              "        5.96351743e-01,  2.12428260e+00,  5.82430422e-01,  9.08779930e-06,\n",
              "        3.49366277e-01,  2.11957073e+00,  5.62738299e-01,  7.77524383e-06,\n",
              "        5.51064372e-01,  2.22838068e+00,  1.51961163e-01,  5.34127412e-06,\n",
              "        3.94179553e-01,  2.22336221e+00,  7.27108046e-02,  1.18717398e-05,\n",
              "        7.58758843e-01,  4.84293401e-01,  3.10697260e-07,  7.22570002e-01,\n",
              "        4.59232122e-01, -1.59947295e-02,  6.90775931e-01,  4.25332665e-01,\n",
              "       -2.71009132e-02,  6.62998915e-01,  3.98797542e-01, -3.73568982e-02,\n",
              "        6.37087762e-01,  3.86131465e-01, -4.79130410e-02,  7.30774701e-01,\n",
              "        3.41979861e-01, -1.63197480e-02,  7.25332260e-01,  2.82193661e-01,\n",
              "       -2.79701911e-02,  7.22954988e-01,  2.45293707e-01, -3.80133651e-02,\n",
              "        7.22288013e-01,  2.15441436e-01, -4.55803238e-02,  7.55784035e-01,\n",
              "        3.37495148e-01, -1.88040007e-02,  7.58707881e-01,  2.71821648e-01,\n",
              "       -2.79710814e-02,  7.60367990e-01,  2.30741337e-01, -3.67213786e-02,\n",
              "        7.61930287e-01,  1.98622614e-01, -4.36406434e-02,  7.79314935e-01,\n",
              "        3.46631676e-01, -2.35068947e-02,  7.90890932e-01,  2.89449155e-01,\n",
              "       -3.35999057e-02,  7.97433674e-01,  2.54011452e-01, -4.18143272e-02,\n",
              "        8.01797390e-01,  2.25272521e-01, -4.80467454e-02,  8.00656199e-01,\n",
              "        3.66837204e-01, -2.97764074e-02,  8.20415437e-01,  3.28867227e-01,\n",
              "       -3.87498923e-02,  8.32213402e-01,  3.03553730e-01, -4.28158417e-02,\n",
              "        8.41900945e-01,  2.80976057e-01, -4.57539186e-02,  1.56901941e-01,\n",
              "        4.43814397e-01,  3.80329396e-07,  1.96192518e-01,  4.12176311e-01,\n",
              "       -2.29109135e-02,  2.27608725e-01,  3.71487260e-01, -3.53154205e-02,\n",
              "        2.52686679e-01,  3.34209591e-01, -4.65882868e-02,  2.76631415e-01,\n",
              "        3.12079132e-01, -5.78222834e-02,  1.78493291e-01,  2.96477884e-01,\n",
              "       -2.00258214e-02,  1.88105345e-01,  2.36908361e-01, -3.33551839e-02,\n",
              "        1.90504581e-01,  1.99054599e-01, -4.40648310e-02,  1.90239191e-01,\n",
              "        1.66940376e-01, -5.20628355e-02,  1.49228588e-01,  2.94973105e-01,\n",
              "       -1.97105892e-02,  1.41933516e-01,  2.27104306e-01, -3.13593000e-02,\n",
              "        1.36851877e-01,  1.85011461e-01, -4.09370735e-02,  1.30663514e-01,\n",
              "        1.51866257e-01, -4.80366759e-02,  1.24751046e-01,  3.07624489e-01,\n",
              "       -2.21680366e-02,  1.06107511e-01,  2.52138346e-01, -3.46292220e-02,\n",
              "        9.57797691e-02,  2.16361746e-01, -4.41452861e-02,  8.75950158e-02,\n",
              "        1.86612397e-01, -5.04907072e-02,  1.04601592e-01,  3.31225902e-01,\n",
              "       -2.69547738e-02,  7.67493397e-02,  2.97869712e-01, -3.97266746e-02,\n",
              "        5.88402301e-02,  2.74213314e-01, -4.64042239e-02,  4.37625870e-02,\n",
              "        2.51302153e-01, -5.02653122e-02])"
            ]
          },
          "metadata": {},
          "execution_count": 8
        }
      ]
    },
    {
      "cell_type": "code",
      "source": [
        "# Path for exported data, numpy arrays\n",
        "DATA_PATH = os.path.join('drive/MyDrive/MP_Data_2')\n",
        "\n",
        "# Actions that we try to detect\n",
        "actions = np.array(['hello', 'thanks', 'repeat','please','goodbye','_'])\n",
        "\n",
        "# 20 videos worth of data\n",
        "no_sequences = 20\n",
        "\n",
        "# Videos are going to be 20 frames in length\n",
        "sequence_length = 20\n"
      ],
      "metadata": {
        "id": "SylYan1y9eT8"
      },
      "execution_count": null,
      "outputs": []
    },
    {
      "cell_type": "code",
      "source": [
        "for action in actions:\n",
        "    for sequence in range(no_sequences):\n",
        "        try:\n",
        "            os.makedirs(os.path.join(DATA_PATH, action, str(sequence)))\n",
        "        except:\n",
        "            pass"
      ],
      "metadata": {
        "id": "giQMbkpjDrxN"
      },
      "execution_count": null,
      "outputs": []
    },
    {
      "cell_type": "code",
      "source": [
        "from sklearn.model_selection import train_test_split\n",
        "from tensorflow.keras.utils import to_categorical\n",
        "\n",
        "label_map = {label:num for num, label in enumerate(actions)}\n",
        "label_map"
      ],
      "metadata": {
        "colab": {
          "base_uri": "https://localhost:8080/"
        },
        "id": "fM7Y64MN9j25",
        "outputId": "244cec06-3142-4f62-aad6-308f3b542eaa"
      },
      "execution_count": null,
      "outputs": [
        {
          "output_type": "execute_result",
          "data": {
            "text/plain": [
              "{'hello': 0, 'thanks': 1, 'repeat': 2, 'please': 3, 'goodbye': 4, '_': 5}"
            ]
          },
          "metadata": {},
          "execution_count": 15
        }
      ]
    },
    {
      "cell_type": "code",
      "source": [
        "sequences, labels = [], []\n",
        "for action in actions:\n",
        "    for sequence in np.array(os.listdir(os.path.join(DATA_PATH, action))).astype(int):\n",
        "        window = []\n",
        "        for frame_num in range(sequence_length):\n",
        "            res = np.load(os.path.join(DATA_PATH, action, str(sequence), \"{}.npy\".format(frame_num)))\n",
        "            window.append(res)\n",
        "        sequences.append(window)\n",
        "        labels.append(label_map[action])"
      ],
      "metadata": {
        "id": "S_jkVf1W91Ib"
      },
      "execution_count": null,
      "outputs": []
    },
    {
      "cell_type": "code",
      "source": [
        "X = np.array(sequences)\n",
        "X.shape"
      ],
      "metadata": {
        "colab": {
          "base_uri": "https://localhost:8080/"
        },
        "id": "pw3bC_knNhvd",
        "outputId": "d0cdb89a-e60b-4daf-aa81-8d1a3205e732"
      },
      "execution_count": 19,
      "outputs": [
        {
          "output_type": "execute_result",
          "data": {
            "text/plain": [
              "(120, 20, 126)"
            ]
          },
          "metadata": {},
          "execution_count": 19
        }
      ]
    },
    {
      "cell_type": "code",
      "source": [
        "y = to_categorical(labels).astype(int)"
      ],
      "metadata": {
        "id": "95ITFcSUNnPd"
      },
      "execution_count": 20,
      "outputs": []
    },
    {
      "cell_type": "code",
      "source": [
        "X_train, X_test, y_train, y_test = train_test_split(X, y, test_size=0.3)"
      ],
      "metadata": {
        "id": "-QNTGQhGNrP2"
      },
      "execution_count": 21,
      "outputs": []
    },
    {
      "cell_type": "code",
      "source": [
        "X_test.shape"
      ],
      "metadata": {
        "colab": {
          "base_uri": "https://localhost:8080/"
        },
        "id": "ygFzocSRNuGx",
        "outputId": "66acf0d6-0bda-4343-b504-ce1bf859fcf3"
      },
      "execution_count": 22,
      "outputs": [
        {
          "output_type": "execute_result",
          "data": {
            "text/plain": [
              "(36, 20, 126)"
            ]
          },
          "metadata": {},
          "execution_count": 22
        }
      ]
    },
    {
      "cell_type": "code",
      "source": [
        "from tensorflow.keras.models import Sequential\n",
        "from tensorflow.keras.layers import LSTM, Dense\n",
        "from tensorflow.keras.callbacks import TensorBoard\n",
        "from tensorflow.keras.layers import Dropout"
      ],
      "metadata": {
        "id": "56AFcrQ5NvSd"
      },
      "execution_count": 23,
      "outputs": []
    },
    {
      "cell_type": "code",
      "source": [
        "model = Sequential()\n",
        "model.add(LSTM(32, return_sequences=True, activation='tanh', input_shape=(20, 126)))  # Reduced LSTM units to 32\n",
        "model.add(Dropout(0.5))  # Added dropout layer\n",
        "model.add(LSTM(64, return_sequences=True, activation='tanh'))  # Reduced LSTM units to 64\n",
        "model.add(Dropout(0.5))  # Added dropout layer\n",
        "model.add(LSTM(32, return_sequences=False, activation='tanh'))  # Reduced LSTM units to 32\n",
        "model.add(Dropout(0.5))  # Added dropout layer\n",
        "model.add(Dense(32, activation='tanh'))  # Reduced dense layer units to 32\n",
        "model.add(Dense(actions.shape[0], activation='softmax'))"
      ],
      "metadata": {
        "id": "FF4k4qU0OBnV"
      },
      "execution_count": 24,
      "outputs": []
    },
    {
      "cell_type": "code",
      "source": [
        "log_dir = os.path.join('Logsv2.5')\n",
        "tb_callback = TensorBoard(log_dir=log_dir)"
      ],
      "metadata": {
        "id": "6z-2_tX-OYQu"
      },
      "execution_count": 27,
      "outputs": []
    },
    {
      "cell_type": "code",
      "source": [
        "model.compile(optimizer='Adam', loss='categorical_crossentropy', metrics=['categorical_accuracy'])"
      ],
      "metadata": {
        "id": "WeC96G-KOJL-"
      },
      "execution_count": 25,
      "outputs": []
    },
    {
      "cell_type": "code",
      "source": [
        "model.fit(X_train, y_train, epochs=300, callbacks=[tb_callback])"
      ],
      "metadata": {
        "colab": {
          "base_uri": "https://localhost:8080/"
        },
        "id": "EQGZVvgVOL7C",
        "outputId": "449e667f-a8f0-49eb-b4b6-554f89489e0f"
      },
      "execution_count": 28,
      "outputs": [
        {
          "output_type": "stream",
          "name": "stdout",
          "text": [
            "Epoch 1/300\n",
            "3/3 [==============================] - 7s 35ms/step - loss: 1.8289 - categorical_accuracy: 0.1548\n",
            "Epoch 2/300\n",
            "3/3 [==============================] - 0s 33ms/step - loss: 1.6983 - categorical_accuracy: 0.4524\n",
            "Epoch 3/300\n",
            "3/3 [==============================] - 0s 32ms/step - loss: 1.5798 - categorical_accuracy: 0.6429\n",
            "Epoch 4/300\n",
            "3/3 [==============================] - 0s 32ms/step - loss: 1.5578 - categorical_accuracy: 0.6190\n",
            "Epoch 5/300\n",
            "3/3 [==============================] - 0s 39ms/step - loss: 1.4498 - categorical_accuracy: 0.6786\n",
            "Epoch 6/300\n",
            "3/3 [==============================] - 0s 50ms/step - loss: 1.3155 - categorical_accuracy: 0.6905\n",
            "Epoch 7/300\n",
            "3/3 [==============================] - 0s 61ms/step - loss: 1.2453 - categorical_accuracy: 0.6786\n",
            "Epoch 8/300\n",
            "3/3 [==============================] - 0s 48ms/step - loss: 1.1143 - categorical_accuracy: 0.7143\n",
            "Epoch 9/300\n",
            "3/3 [==============================] - 0s 49ms/step - loss: 1.0099 - categorical_accuracy: 0.7500\n",
            "Epoch 10/300\n",
            "3/3 [==============================] - 0s 48ms/step - loss: 0.9650 - categorical_accuracy: 0.7262\n",
            "Epoch 11/300\n",
            "3/3 [==============================] - 0s 47ms/step - loss: 0.9036 - categorical_accuracy: 0.6905\n",
            "Epoch 12/300\n",
            "3/3 [==============================] - 0s 53ms/step - loss: 0.8224 - categorical_accuracy: 0.7738\n",
            "Epoch 13/300\n",
            "3/3 [==============================] - 0s 47ms/step - loss: 0.7427 - categorical_accuracy: 0.7500\n",
            "Epoch 14/300\n",
            "3/3 [==============================] - 0s 48ms/step - loss: 0.7059 - categorical_accuracy: 0.7976\n",
            "Epoch 15/300\n",
            "3/3 [==============================] - 0s 47ms/step - loss: 0.6852 - categorical_accuracy: 0.6786\n",
            "Epoch 16/300\n",
            "3/3 [==============================] - 0s 50ms/step - loss: 0.6393 - categorical_accuracy: 0.7381\n",
            "Epoch 17/300\n",
            "3/3 [==============================] - 0s 64ms/step - loss: 0.6100 - categorical_accuracy: 0.7619\n",
            "Epoch 18/300\n",
            "3/3 [==============================] - 0s 62ms/step - loss: 0.5564 - categorical_accuracy: 0.8214\n",
            "Epoch 19/300\n",
            "3/3 [==============================] - 0s 48ms/step - loss: 0.5109 - categorical_accuracy: 0.7738\n",
            "Epoch 20/300\n",
            "3/3 [==============================] - 0s 56ms/step - loss: 0.4701 - categorical_accuracy: 0.8452\n",
            "Epoch 21/300\n",
            "3/3 [==============================] - 0s 47ms/step - loss: 0.4604 - categorical_accuracy: 0.8452\n",
            "Epoch 22/300\n",
            "3/3 [==============================] - 0s 48ms/step - loss: 0.4151 - categorical_accuracy: 0.9167\n",
            "Epoch 23/300\n",
            "3/3 [==============================] - 0s 47ms/step - loss: 0.3971 - categorical_accuracy: 0.9167\n",
            "Epoch 24/300\n",
            "3/3 [==============================] - 0s 46ms/step - loss: 0.3757 - categorical_accuracy: 0.8571\n",
            "Epoch 25/300\n",
            "3/3 [==============================] - 0s 47ms/step - loss: 0.3105 - categorical_accuracy: 0.9524\n",
            "Epoch 26/300\n",
            "3/3 [==============================] - 0s 47ms/step - loss: 0.3100 - categorical_accuracy: 0.9524\n",
            "Epoch 27/300\n",
            "3/3 [==============================] - 0s 47ms/step - loss: 0.2948 - categorical_accuracy: 0.9405\n",
            "Epoch 28/300\n",
            "3/3 [==============================] - 0s 50ms/step - loss: 0.2437 - categorical_accuracy: 0.9881\n",
            "Epoch 29/300\n",
            "3/3 [==============================] - 0s 50ms/step - loss: 0.2280 - categorical_accuracy: 0.9762\n",
            "Epoch 30/300\n",
            "3/3 [==============================] - 0s 50ms/step - loss: 0.2174 - categorical_accuracy: 0.9762\n",
            "Epoch 31/300\n",
            "3/3 [==============================] - 0s 50ms/step - loss: 0.1993 - categorical_accuracy: 0.9643\n",
            "Epoch 32/300\n",
            "3/3 [==============================] - 0s 60ms/step - loss: 0.1726 - categorical_accuracy: 1.0000\n",
            "Epoch 33/300\n",
            "3/3 [==============================] - 0s 59ms/step - loss: 0.1515 - categorical_accuracy: 1.0000\n",
            "Epoch 34/300\n",
            "3/3 [==============================] - 0s 54ms/step - loss: 0.1272 - categorical_accuracy: 1.0000\n",
            "Epoch 35/300\n",
            "3/3 [==============================] - 0s 35ms/step - loss: 0.1259 - categorical_accuracy: 0.9881\n",
            "Epoch 36/300\n",
            "3/3 [==============================] - 0s 35ms/step - loss: 0.1412 - categorical_accuracy: 1.0000\n",
            "Epoch 37/300\n",
            "3/3 [==============================] - 0s 35ms/step - loss: 0.1072 - categorical_accuracy: 1.0000\n",
            "Epoch 38/300\n",
            "3/3 [==============================] - 0s 34ms/step - loss: 0.1112 - categorical_accuracy: 1.0000\n",
            "Epoch 39/300\n",
            "3/3 [==============================] - 0s 33ms/step - loss: 0.0878 - categorical_accuracy: 1.0000\n",
            "Epoch 40/300\n",
            "3/3 [==============================] - 0s 37ms/step - loss: 0.0835 - categorical_accuracy: 1.0000\n",
            "Epoch 41/300\n",
            "3/3 [==============================] - 0s 35ms/step - loss: 0.0845 - categorical_accuracy: 1.0000\n",
            "Epoch 42/300\n",
            "3/3 [==============================] - 0s 34ms/step - loss: 0.0906 - categorical_accuracy: 1.0000\n",
            "Epoch 43/300\n",
            "3/3 [==============================] - 0s 35ms/step - loss: 0.0929 - categorical_accuracy: 0.9881\n",
            "Epoch 44/300\n",
            "3/3 [==============================] - 0s 33ms/step - loss: 0.0717 - categorical_accuracy: 1.0000\n",
            "Epoch 45/300\n",
            "3/3 [==============================] - 0s 32ms/step - loss: 0.0689 - categorical_accuracy: 1.0000\n",
            "Epoch 46/300\n",
            "3/3 [==============================] - 0s 32ms/step - loss: 0.0928 - categorical_accuracy: 0.9881\n",
            "Epoch 47/300\n",
            "3/3 [==============================] - 0s 35ms/step - loss: 0.0739 - categorical_accuracy: 1.0000\n",
            "Epoch 48/300\n",
            "3/3 [==============================] - 0s 34ms/step - loss: 0.0711 - categorical_accuracy: 1.0000\n",
            "Epoch 49/300\n",
            "3/3 [==============================] - 0s 32ms/step - loss: 0.0666 - categorical_accuracy: 1.0000\n",
            "Epoch 50/300\n",
            "3/3 [==============================] - 0s 40ms/step - loss: 0.0617 - categorical_accuracy: 1.0000\n",
            "Epoch 51/300\n",
            "3/3 [==============================] - 0s 35ms/step - loss: 0.0729 - categorical_accuracy: 1.0000\n",
            "Epoch 52/300\n",
            "3/3 [==============================] - 0s 33ms/step - loss: 0.0460 - categorical_accuracy: 1.0000\n",
            "Epoch 53/300\n",
            "3/3 [==============================] - 0s 34ms/step - loss: 0.0536 - categorical_accuracy: 1.0000\n",
            "Epoch 54/300\n",
            "3/3 [==============================] - 0s 33ms/step - loss: 0.0519 - categorical_accuracy: 1.0000\n",
            "Epoch 55/300\n",
            "3/3 [==============================] - 0s 34ms/step - loss: 0.0522 - categorical_accuracy: 1.0000\n",
            "Epoch 56/300\n",
            "3/3 [==============================] - 0s 33ms/step - loss: 0.0550 - categorical_accuracy: 1.0000\n",
            "Epoch 57/300\n",
            "3/3 [==============================] - 0s 33ms/step - loss: 0.0341 - categorical_accuracy: 1.0000\n",
            "Epoch 58/300\n",
            "3/3 [==============================] - 0s 33ms/step - loss: 0.0577 - categorical_accuracy: 0.9881\n",
            "Epoch 59/300\n",
            "3/3 [==============================] - 0s 34ms/step - loss: 0.0491 - categorical_accuracy: 1.0000\n",
            "Epoch 60/300\n",
            "3/3 [==============================] - 0s 40ms/step - loss: 0.0411 - categorical_accuracy: 1.0000\n",
            "Epoch 61/300\n",
            "3/3 [==============================] - 0s 33ms/step - loss: 0.0467 - categorical_accuracy: 1.0000\n",
            "Epoch 62/300\n",
            "3/3 [==============================] - 0s 34ms/step - loss: 0.0369 - categorical_accuracy: 1.0000\n",
            "Epoch 63/300\n",
            "3/3 [==============================] - 0s 32ms/step - loss: 0.0401 - categorical_accuracy: 1.0000\n",
            "Epoch 64/300\n",
            "3/3 [==============================] - 0s 34ms/step - loss: 0.0364 - categorical_accuracy: 1.0000\n",
            "Epoch 65/300\n",
            "3/3 [==============================] - 0s 34ms/step - loss: 0.0387 - categorical_accuracy: 1.0000\n",
            "Epoch 66/300\n",
            "3/3 [==============================] - 0s 33ms/step - loss: 0.0421 - categorical_accuracy: 1.0000\n",
            "Epoch 67/300\n",
            "3/3 [==============================] - 0s 34ms/step - loss: 0.0360 - categorical_accuracy: 1.0000\n",
            "Epoch 68/300\n",
            "3/3 [==============================] - 0s 33ms/step - loss: 0.0410 - categorical_accuracy: 1.0000\n",
            "Epoch 69/300\n",
            "3/3 [==============================] - 0s 34ms/step - loss: 0.0267 - categorical_accuracy: 1.0000\n",
            "Epoch 70/300\n",
            "3/3 [==============================] - 0s 36ms/step - loss: 0.0250 - categorical_accuracy: 1.0000\n",
            "Epoch 71/300\n",
            "3/3 [==============================] - 0s 32ms/step - loss: 0.0379 - categorical_accuracy: 1.0000\n",
            "Epoch 72/300\n",
            "3/3 [==============================] - 0s 34ms/step - loss: 0.0430 - categorical_accuracy: 1.0000\n",
            "Epoch 73/300\n",
            "3/3 [==============================] - 0s 33ms/step - loss: 0.0363 - categorical_accuracy: 1.0000\n",
            "Epoch 74/300\n",
            "3/3 [==============================] - 0s 33ms/step - loss: 0.0293 - categorical_accuracy: 1.0000\n",
            "Epoch 75/300\n",
            "3/3 [==============================] - 0s 33ms/step - loss: 0.0247 - categorical_accuracy: 1.0000\n",
            "Epoch 76/300\n",
            "3/3 [==============================] - 0s 32ms/step - loss: 0.0259 - categorical_accuracy: 1.0000\n",
            "Epoch 77/300\n",
            "3/3 [==============================] - 0s 33ms/step - loss: 0.0195 - categorical_accuracy: 1.0000\n",
            "Epoch 78/300\n",
            "3/3 [==============================] - 0s 34ms/step - loss: 0.0271 - categorical_accuracy: 1.0000\n",
            "Epoch 79/300\n",
            "3/3 [==============================] - 0s 42ms/step - loss: 0.0366 - categorical_accuracy: 1.0000\n",
            "Epoch 80/300\n",
            "3/3 [==============================] - 0s 33ms/step - loss: 0.0276 - categorical_accuracy: 1.0000\n",
            "Epoch 81/300\n",
            "3/3 [==============================] - 0s 35ms/step - loss: 0.0277 - categorical_accuracy: 1.0000\n",
            "Epoch 82/300\n",
            "3/3 [==============================] - 0s 34ms/step - loss: 0.0336 - categorical_accuracy: 1.0000\n",
            "Epoch 83/300\n",
            "3/3 [==============================] - 0s 33ms/step - loss: 0.0221 - categorical_accuracy: 1.0000\n",
            "Epoch 84/300\n",
            "3/3 [==============================] - 0s 33ms/step - loss: 0.0241 - categorical_accuracy: 1.0000\n",
            "Epoch 85/300\n",
            "3/3 [==============================] - 0s 33ms/step - loss: 0.0330 - categorical_accuracy: 1.0000\n",
            "Epoch 86/300\n",
            "3/3 [==============================] - 0s 35ms/step - loss: 0.0175 - categorical_accuracy: 1.0000\n",
            "Epoch 87/300\n",
            "3/3 [==============================] - 0s 37ms/step - loss: 0.0385 - categorical_accuracy: 1.0000\n",
            "Epoch 88/300\n",
            "3/3 [==============================] - 0s 34ms/step - loss: 0.0248 - categorical_accuracy: 1.0000\n",
            "Epoch 89/300\n",
            "3/3 [==============================] - 0s 41ms/step - loss: 0.0218 - categorical_accuracy: 1.0000\n",
            "Epoch 90/300\n",
            "3/3 [==============================] - 0s 34ms/step - loss: 0.0255 - categorical_accuracy: 1.0000\n",
            "Epoch 91/300\n",
            "3/3 [==============================] - 0s 33ms/step - loss: 0.0235 - categorical_accuracy: 1.0000\n",
            "Epoch 92/300\n",
            "3/3 [==============================] - 0s 33ms/step - loss: 0.0198 - categorical_accuracy: 1.0000\n",
            "Epoch 93/300\n",
            "3/3 [==============================] - 0s 33ms/step - loss: 0.0253 - categorical_accuracy: 1.0000\n",
            "Epoch 94/300\n",
            "3/3 [==============================] - 0s 34ms/step - loss: 0.0288 - categorical_accuracy: 1.0000\n",
            "Epoch 95/300\n",
            "3/3 [==============================] - 0s 34ms/step - loss: 0.0196 - categorical_accuracy: 1.0000\n",
            "Epoch 96/300\n",
            "3/3 [==============================] - 0s 35ms/step - loss: 0.0168 - categorical_accuracy: 1.0000\n",
            "Epoch 97/300\n",
            "3/3 [==============================] - 0s 34ms/step - loss: 0.0240 - categorical_accuracy: 1.0000\n",
            "Epoch 98/300\n",
            "3/3 [==============================] - 0s 35ms/step - loss: 0.0166 - categorical_accuracy: 1.0000\n",
            "Epoch 99/300\n",
            "3/3 [==============================] - 0s 33ms/step - loss: 0.0181 - categorical_accuracy: 1.0000\n",
            "Epoch 100/300\n",
            "3/3 [==============================] - 0s 36ms/step - loss: 0.0235 - categorical_accuracy: 1.0000\n",
            "Epoch 101/300\n",
            "3/3 [==============================] - 0s 34ms/step - loss: 0.0281 - categorical_accuracy: 1.0000\n",
            "Epoch 102/300\n",
            "3/3 [==============================] - 0s 33ms/step - loss: 0.0185 - categorical_accuracy: 1.0000\n",
            "Epoch 103/300\n",
            "3/3 [==============================] - 0s 39ms/step - loss: 0.0209 - categorical_accuracy: 1.0000\n",
            "Epoch 104/300\n",
            "3/3 [==============================] - 0s 35ms/step - loss: 0.0180 - categorical_accuracy: 1.0000\n",
            "Epoch 105/300\n",
            "3/3 [==============================] - 0s 36ms/step - loss: 0.0197 - categorical_accuracy: 1.0000\n",
            "Epoch 106/300\n",
            "3/3 [==============================] - 0s 34ms/step - loss: 0.0246 - categorical_accuracy: 1.0000\n",
            "Epoch 107/300\n",
            "3/3 [==============================] - 0s 37ms/step - loss: 0.0187 - categorical_accuracy: 1.0000\n",
            "Epoch 108/300\n",
            "3/3 [==============================] - 0s 40ms/step - loss: 0.0160 - categorical_accuracy: 1.0000\n",
            "Epoch 109/300\n",
            "3/3 [==============================] - 0s 34ms/step - loss: 0.0218 - categorical_accuracy: 1.0000\n",
            "Epoch 110/300\n",
            "3/3 [==============================] - 0s 37ms/step - loss: 0.0125 - categorical_accuracy: 1.0000\n",
            "Epoch 111/300\n",
            "3/3 [==============================] - 0s 33ms/step - loss: 0.0143 - categorical_accuracy: 1.0000\n",
            "Epoch 112/300\n",
            "3/3 [==============================] - 0s 33ms/step - loss: 0.0207 - categorical_accuracy: 1.0000\n",
            "Epoch 113/300\n",
            "3/3 [==============================] - 0s 36ms/step - loss: 0.0124 - categorical_accuracy: 1.0000\n",
            "Epoch 114/300\n",
            "3/3 [==============================] - 0s 33ms/step - loss: 0.0142 - categorical_accuracy: 1.0000\n",
            "Epoch 115/300\n",
            "3/3 [==============================] - 0s 34ms/step - loss: 0.0249 - categorical_accuracy: 1.0000\n",
            "Epoch 116/300\n",
            "3/3 [==============================] - 0s 34ms/step - loss: 0.0130 - categorical_accuracy: 1.0000\n",
            "Epoch 117/300\n",
            "3/3 [==============================] - 0s 39ms/step - loss: 0.0123 - categorical_accuracy: 1.0000\n",
            "Epoch 118/300\n",
            "3/3 [==============================] - 0s 34ms/step - loss: 0.0215 - categorical_accuracy: 1.0000\n",
            "Epoch 119/300\n",
            "3/3 [==============================] - 0s 33ms/step - loss: 0.0158 - categorical_accuracy: 1.0000\n",
            "Epoch 120/300\n",
            "3/3 [==============================] - 0s 33ms/step - loss: 0.1696 - categorical_accuracy: 0.9643\n",
            "Epoch 121/300\n",
            "3/3 [==============================] - 0s 36ms/step - loss: 1.1228 - categorical_accuracy: 0.7976\n",
            "Epoch 122/300\n",
            "3/3 [==============================] - 0s 32ms/step - loss: 1.0218 - categorical_accuracy: 0.7857\n",
            "Epoch 123/300\n",
            "3/3 [==============================] - 0s 35ms/step - loss: 1.1410 - categorical_accuracy: 0.7262\n",
            "Epoch 124/300\n",
            "3/3 [==============================] - 0s 35ms/step - loss: 0.6672 - categorical_accuracy: 0.7738\n",
            "Epoch 125/300\n",
            "3/3 [==============================] - 0s 36ms/step - loss: 0.5203 - categorical_accuracy: 0.7500\n",
            "Epoch 126/300\n",
            "3/3 [==============================] - 0s 35ms/step - loss: 0.3888 - categorical_accuracy: 0.8452\n",
            "Epoch 127/300\n",
            "3/3 [==============================] - 0s 39ms/step - loss: 0.5132 - categorical_accuracy: 0.7857\n",
            "Epoch 128/300\n",
            "3/3 [==============================] - 0s 50ms/step - loss: 0.3226 - categorical_accuracy: 0.8214\n",
            "Epoch 129/300\n",
            "3/3 [==============================] - 0s 50ms/step - loss: 0.3768 - categorical_accuracy: 0.7738\n",
            "Epoch 130/300\n",
            "3/3 [==============================] - 0s 50ms/step - loss: 0.4252 - categorical_accuracy: 0.7500\n",
            "Epoch 131/300\n",
            "3/3 [==============================] - 0s 49ms/step - loss: 0.2889 - categorical_accuracy: 0.8452\n",
            "Epoch 132/300\n",
            "3/3 [==============================] - 0s 47ms/step - loss: 0.3214 - categorical_accuracy: 0.8452\n",
            "Epoch 133/300\n",
            "3/3 [==============================] - 0s 56ms/step - loss: 0.3266 - categorical_accuracy: 0.8095\n",
            "Epoch 134/300\n",
            "3/3 [==============================] - 0s 52ms/step - loss: 0.2760 - categorical_accuracy: 0.8452\n",
            "Epoch 135/300\n",
            "3/3 [==============================] - 0s 49ms/step - loss: 0.2756 - categorical_accuracy: 0.8333\n",
            "Epoch 136/300\n",
            "3/3 [==============================] - 0s 51ms/step - loss: 0.3015 - categorical_accuracy: 0.8452\n",
            "Epoch 137/300\n",
            "3/3 [==============================] - 0s 48ms/step - loss: 0.3097 - categorical_accuracy: 0.8333\n",
            "Epoch 138/300\n",
            "3/3 [==============================] - 0s 51ms/step - loss: 0.2500 - categorical_accuracy: 0.8810\n",
            "Epoch 139/300\n",
            "3/3 [==============================] - 0s 52ms/step - loss: 0.2409 - categorical_accuracy: 0.8810\n",
            "Epoch 140/300\n",
            "3/3 [==============================] - 0s 52ms/step - loss: 0.2521 - categorical_accuracy: 0.8452\n",
            "Epoch 141/300\n",
            "3/3 [==============================] - 0s 53ms/step - loss: 0.2363 - categorical_accuracy: 0.8571\n",
            "Epoch 142/300\n",
            "3/3 [==============================] - 0s 46ms/step - loss: 0.1957 - categorical_accuracy: 0.9167\n",
            "Epoch 143/300\n",
            "3/3 [==============================] - 0s 54ms/step - loss: 0.2190 - categorical_accuracy: 0.8571\n",
            "Epoch 144/300\n",
            "3/3 [==============================] - 0s 51ms/step - loss: 0.2015 - categorical_accuracy: 0.8929\n",
            "Epoch 145/300\n",
            "3/3 [==============================] - 0s 45ms/step - loss: 0.2058 - categorical_accuracy: 0.8690\n",
            "Epoch 146/300\n",
            "3/3 [==============================] - 0s 46ms/step - loss: 0.1598 - categorical_accuracy: 0.9643\n",
            "Epoch 147/300\n",
            "3/3 [==============================] - 0s 46ms/step - loss: 0.1753 - categorical_accuracy: 0.9524\n",
            "Epoch 148/300\n",
            "3/3 [==============================] - 0s 47ms/step - loss: 0.1637 - categorical_accuracy: 0.9286\n",
            "Epoch 149/300\n",
            "3/3 [==============================] - 0s 52ms/step - loss: 0.1688 - categorical_accuracy: 0.9286\n",
            "Epoch 150/300\n",
            "3/3 [==============================] - 0s 51ms/step - loss: 0.1258 - categorical_accuracy: 0.9762\n",
            "Epoch 151/300\n",
            "3/3 [==============================] - 0s 55ms/step - loss: 0.1701 - categorical_accuracy: 0.9286\n",
            "Epoch 152/300\n",
            "3/3 [==============================] - 0s 49ms/step - loss: 0.0964 - categorical_accuracy: 1.0000\n",
            "Epoch 153/300\n",
            "3/3 [==============================] - 0s 54ms/step - loss: 0.1271 - categorical_accuracy: 0.9762\n",
            "Epoch 154/300\n",
            "3/3 [==============================] - 0s 59ms/step - loss: 0.0822 - categorical_accuracy: 1.0000\n",
            "Epoch 155/300\n",
            "3/3 [==============================] - 0s 49ms/step - loss: 0.0819 - categorical_accuracy: 1.0000\n",
            "Epoch 156/300\n",
            "3/3 [==============================] - 0s 51ms/step - loss: 0.0685 - categorical_accuracy: 1.0000\n",
            "Epoch 157/300\n",
            "3/3 [==============================] - 0s 52ms/step - loss: 0.0631 - categorical_accuracy: 1.0000\n",
            "Epoch 158/300\n",
            "3/3 [==============================] - 0s 33ms/step - loss: 0.0690 - categorical_accuracy: 0.9881\n",
            "Epoch 159/300\n",
            "3/3 [==============================] - 0s 33ms/step - loss: 0.0416 - categorical_accuracy: 1.0000\n",
            "Epoch 160/300\n",
            "3/3 [==============================] - 0s 34ms/step - loss: 0.0358 - categorical_accuracy: 1.0000\n",
            "Epoch 161/300\n",
            "3/3 [==============================] - 0s 34ms/step - loss: 0.0611 - categorical_accuracy: 0.9881\n",
            "Epoch 162/300\n",
            "3/3 [==============================] - 0s 42ms/step - loss: 0.0528 - categorical_accuracy: 1.0000\n",
            "Epoch 163/300\n",
            "3/3 [==============================] - 0s 33ms/step - loss: 0.0516 - categorical_accuracy: 1.0000\n",
            "Epoch 164/300\n",
            "3/3 [==============================] - 0s 35ms/step - loss: 0.0337 - categorical_accuracy: 1.0000\n",
            "Epoch 165/300\n",
            "3/3 [==============================] - 0s 35ms/step - loss: 0.0495 - categorical_accuracy: 1.0000\n",
            "Epoch 166/300\n",
            "3/3 [==============================] - 0s 33ms/step - loss: 0.0380 - categorical_accuracy: 1.0000\n",
            "Epoch 167/300\n",
            "3/3 [==============================] - 0s 33ms/step - loss: 0.0273 - categorical_accuracy: 1.0000\n",
            "Epoch 168/300\n",
            "3/3 [==============================] - 0s 33ms/step - loss: 0.0378 - categorical_accuracy: 1.0000\n",
            "Epoch 169/300\n",
            "3/3 [==============================] - 0s 34ms/step - loss: 0.0406 - categorical_accuracy: 1.0000\n",
            "Epoch 170/300\n",
            "3/3 [==============================] - 0s 33ms/step - loss: 0.0282 - categorical_accuracy: 1.0000\n",
            "Epoch 171/300\n",
            "3/3 [==============================] - 0s 33ms/step - loss: 0.0441 - categorical_accuracy: 0.9881\n",
            "Epoch 172/300\n",
            "3/3 [==============================] - 0s 32ms/step - loss: 0.0253 - categorical_accuracy: 1.0000\n",
            "Epoch 173/300\n",
            "3/3 [==============================] - 0s 34ms/step - loss: 0.0264 - categorical_accuracy: 1.0000\n",
            "Epoch 174/300\n",
            "3/3 [==============================] - 0s 32ms/step - loss: 0.0263 - categorical_accuracy: 1.0000\n",
            "Epoch 175/300\n",
            "3/3 [==============================] - 0s 33ms/step - loss: 0.0335 - categorical_accuracy: 1.0000\n",
            "Epoch 176/300\n",
            "3/3 [==============================] - 0s 37ms/step - loss: 0.0340 - categorical_accuracy: 1.0000\n",
            "Epoch 177/300\n",
            "3/3 [==============================] - 0s 34ms/step - loss: 0.0339 - categorical_accuracy: 1.0000\n",
            "Epoch 178/300\n",
            "3/3 [==============================] - 0s 34ms/step - loss: 0.0265 - categorical_accuracy: 1.0000\n",
            "Epoch 179/300\n",
            "3/3 [==============================] - 0s 33ms/step - loss: 0.0307 - categorical_accuracy: 1.0000\n",
            "Epoch 180/300\n",
            "3/3 [==============================] - 0s 34ms/step - loss: 0.0240 - categorical_accuracy: 1.0000\n",
            "Epoch 181/300\n",
            "3/3 [==============================] - 0s 38ms/step - loss: 0.0265 - categorical_accuracy: 1.0000\n",
            "Epoch 182/300\n",
            "3/3 [==============================] - 0s 32ms/step - loss: 0.0183 - categorical_accuracy: 1.0000\n",
            "Epoch 183/300\n",
            "3/3 [==============================] - 0s 32ms/step - loss: 0.0318 - categorical_accuracy: 1.0000\n",
            "Epoch 184/300\n",
            "3/3 [==============================] - 0s 34ms/step - loss: 0.0354 - categorical_accuracy: 1.0000\n",
            "Epoch 185/300\n",
            "3/3 [==============================] - 0s 36ms/step - loss: 0.0204 - categorical_accuracy: 1.0000\n",
            "Epoch 186/300\n",
            "3/3 [==============================] - 0s 33ms/step - loss: 0.0235 - categorical_accuracy: 1.0000\n",
            "Epoch 187/300\n",
            "3/3 [==============================] - 0s 34ms/step - loss: 0.0151 - categorical_accuracy: 1.0000\n",
            "Epoch 188/300\n",
            "3/3 [==============================] - 0s 34ms/step - loss: 0.0161 - categorical_accuracy: 1.0000\n",
            "Epoch 189/300\n",
            "3/3 [==============================] - 0s 35ms/step - loss: 0.0236 - categorical_accuracy: 1.0000\n",
            "Epoch 190/300\n",
            "3/3 [==============================] - 0s 33ms/step - loss: 0.0183 - categorical_accuracy: 1.0000\n",
            "Epoch 191/300\n",
            "3/3 [==============================] - 0s 40ms/step - loss: 0.0226 - categorical_accuracy: 1.0000\n",
            "Epoch 192/300\n",
            "3/3 [==============================] - 0s 36ms/step - loss: 0.0184 - categorical_accuracy: 1.0000\n",
            "Epoch 193/300\n",
            "3/3 [==============================] - 0s 38ms/step - loss: 0.0167 - categorical_accuracy: 1.0000\n",
            "Epoch 194/300\n",
            "3/3 [==============================] - 0s 34ms/step - loss: 0.0189 - categorical_accuracy: 1.0000\n",
            "Epoch 195/300\n",
            "3/3 [==============================] - 0s 33ms/step - loss: 0.0197 - categorical_accuracy: 1.0000\n",
            "Epoch 196/300\n",
            "3/3 [==============================] - 0s 36ms/step - loss: 0.0191 - categorical_accuracy: 1.0000\n",
            "Epoch 197/300\n",
            "3/3 [==============================] - 0s 34ms/step - loss: 0.0205 - categorical_accuracy: 1.0000\n",
            "Epoch 198/300\n",
            "3/3 [==============================] - 0s 37ms/step - loss: 0.0317 - categorical_accuracy: 1.0000\n",
            "Epoch 199/300\n",
            "3/3 [==============================] - 0s 34ms/step - loss: 0.0203 - categorical_accuracy: 1.0000\n",
            "Epoch 200/300\n",
            "3/3 [==============================] - 0s 43ms/step - loss: 0.0134 - categorical_accuracy: 1.0000\n",
            "Epoch 201/300\n",
            "3/3 [==============================] - 0s 34ms/step - loss: 0.0143 - categorical_accuracy: 1.0000\n",
            "Epoch 202/300\n",
            "3/3 [==============================] - 0s 36ms/step - loss: 0.0222 - categorical_accuracy: 1.0000\n",
            "Epoch 203/300\n",
            "3/3 [==============================] - 0s 34ms/step - loss: 0.0162 - categorical_accuracy: 1.0000\n",
            "Epoch 204/300\n",
            "3/3 [==============================] - 0s 35ms/step - loss: 0.0163 - categorical_accuracy: 1.0000\n",
            "Epoch 205/300\n",
            "3/3 [==============================] - 0s 35ms/step - loss: 0.0144 - categorical_accuracy: 1.0000\n",
            "Epoch 206/300\n",
            "3/3 [==============================] - 0s 37ms/step - loss: 0.0213 - categorical_accuracy: 1.0000\n",
            "Epoch 207/300\n",
            "3/3 [==============================] - 0s 35ms/step - loss: 0.0181 - categorical_accuracy: 1.0000\n",
            "Epoch 208/300\n",
            "3/3 [==============================] - 0s 34ms/step - loss: 0.0166 - categorical_accuracy: 1.0000\n",
            "Epoch 209/300\n",
            "3/3 [==============================] - 0s 34ms/step - loss: 0.0121 - categorical_accuracy: 1.0000\n",
            "Epoch 210/300\n",
            "3/3 [==============================] - 0s 34ms/step - loss: 0.0174 - categorical_accuracy: 1.0000\n",
            "Epoch 211/300\n",
            "3/3 [==============================] - 0s 34ms/step - loss: 0.0146 - categorical_accuracy: 1.0000\n",
            "Epoch 212/300\n",
            "3/3 [==============================] - 0s 35ms/step - loss: 0.0190 - categorical_accuracy: 1.0000\n",
            "Epoch 213/300\n",
            "3/3 [==============================] - 0s 33ms/step - loss: 0.0141 - categorical_accuracy: 1.0000\n",
            "Epoch 214/300\n",
            "3/3 [==============================] - 0s 35ms/step - loss: 0.0094 - categorical_accuracy: 1.0000\n",
            "Epoch 215/300\n",
            "3/3 [==============================] - 0s 59ms/step - loss: 0.0142 - categorical_accuracy: 1.0000\n",
            "Epoch 216/300\n",
            "3/3 [==============================] - 0s 53ms/step - loss: 0.0167 - categorical_accuracy: 1.0000\n",
            "Epoch 217/300\n",
            "3/3 [==============================] - 0s 36ms/step - loss: 0.0106 - categorical_accuracy: 1.0000\n",
            "Epoch 218/300\n",
            "3/3 [==============================] - 0s 32ms/step - loss: 0.0152 - categorical_accuracy: 1.0000\n",
            "Epoch 219/300\n",
            "3/3 [==============================] - 0s 37ms/step - loss: 0.0086 - categorical_accuracy: 1.0000\n",
            "Epoch 220/300\n",
            "3/3 [==============================] - 0s 33ms/step - loss: 0.0087 - categorical_accuracy: 1.0000\n",
            "Epoch 221/300\n",
            "3/3 [==============================] - 0s 81ms/step - loss: 0.0134 - categorical_accuracy: 1.0000\n",
            "Epoch 222/300\n",
            "3/3 [==============================] - 0s 41ms/step - loss: 0.0120 - categorical_accuracy: 1.0000\n",
            "Epoch 223/300\n",
            "3/3 [==============================] - 0s 38ms/step - loss: 0.0107 - categorical_accuracy: 1.0000\n",
            "Epoch 224/300\n",
            "3/3 [==============================] - 0s 34ms/step - loss: 0.0133 - categorical_accuracy: 1.0000\n",
            "Epoch 225/300\n",
            "3/3 [==============================] - 0s 39ms/step - loss: 0.0163 - categorical_accuracy: 1.0000\n",
            "Epoch 226/300\n",
            "3/3 [==============================] - 0s 33ms/step - loss: 0.0155 - categorical_accuracy: 1.0000\n",
            "Epoch 227/300\n",
            "3/3 [==============================] - 0s 62ms/step - loss: 0.0144 - categorical_accuracy: 1.0000\n",
            "Epoch 228/300\n",
            "3/3 [==============================] - 0s 48ms/step - loss: 0.0147 - categorical_accuracy: 1.0000\n",
            "Epoch 229/300\n",
            "3/3 [==============================] - 0s 33ms/step - loss: 0.0149 - categorical_accuracy: 1.0000\n",
            "Epoch 230/300\n",
            "3/3 [==============================] - 0s 36ms/step - loss: 0.0136 - categorical_accuracy: 1.0000\n",
            "Epoch 231/300\n",
            "3/3 [==============================] - 0s 34ms/step - loss: 0.0135 - categorical_accuracy: 1.0000\n",
            "Epoch 232/300\n",
            "3/3 [==============================] - 0s 33ms/step - loss: 0.0098 - categorical_accuracy: 1.0000\n",
            "Epoch 233/300\n",
            "3/3 [==============================] - 0s 35ms/step - loss: 0.0102 - categorical_accuracy: 1.0000\n",
            "Epoch 234/300\n",
            "3/3 [==============================] - 0s 33ms/step - loss: 0.0135 - categorical_accuracy: 1.0000\n",
            "Epoch 235/300\n",
            "3/3 [==============================] - 0s 38ms/step - loss: 0.0136 - categorical_accuracy: 1.0000\n",
            "Epoch 236/300\n",
            "3/3 [==============================] - 0s 37ms/step - loss: 0.0126 - categorical_accuracy: 1.0000\n",
            "Epoch 237/300\n",
            "3/3 [==============================] - 0s 37ms/step - loss: 0.0098 - categorical_accuracy: 1.0000\n",
            "Epoch 238/300\n",
            "3/3 [==============================] - 0s 35ms/step - loss: 0.0075 - categorical_accuracy: 1.0000\n",
            "Epoch 239/300\n",
            "3/3 [==============================] - 0s 34ms/step - loss: 0.0085 - categorical_accuracy: 1.0000\n",
            "Epoch 240/300\n",
            "3/3 [==============================] - 0s 34ms/step - loss: 0.0139 - categorical_accuracy: 1.0000\n",
            "Epoch 241/300\n",
            "3/3 [==============================] - 0s 34ms/step - loss: 0.0120 - categorical_accuracy: 1.0000\n",
            "Epoch 242/300\n",
            "3/3 [==============================] - 0s 37ms/step - loss: 0.0115 - categorical_accuracy: 1.0000\n",
            "Epoch 243/300\n",
            "3/3 [==============================] - 0s 41ms/step - loss: 0.0126 - categorical_accuracy: 1.0000\n",
            "Epoch 244/300\n",
            "3/3 [==============================] - 0s 36ms/step - loss: 0.0125 - categorical_accuracy: 1.0000\n",
            "Epoch 245/300\n",
            "3/3 [==============================] - 0s 56ms/step - loss: 0.0097 - categorical_accuracy: 1.0000\n",
            "Epoch 246/300\n",
            "3/3 [==============================] - 0s 54ms/step - loss: 0.0122 - categorical_accuracy: 1.0000\n",
            "Epoch 247/300\n",
            "3/3 [==============================] - 0s 52ms/step - loss: 0.0081 - categorical_accuracy: 1.0000\n",
            "Epoch 248/300\n",
            "3/3 [==============================] - 0s 54ms/step - loss: 0.0112 - categorical_accuracy: 1.0000\n",
            "Epoch 249/300\n",
            "3/3 [==============================] - 0s 48ms/step - loss: 0.0138 - categorical_accuracy: 1.0000\n",
            "Epoch 250/300\n",
            "3/3 [==============================] - 0s 52ms/step - loss: 0.0107 - categorical_accuracy: 1.0000\n",
            "Epoch 251/300\n",
            "3/3 [==============================] - 0s 52ms/step - loss: 0.0072 - categorical_accuracy: 1.0000\n",
            "Epoch 252/300\n",
            "3/3 [==============================] - 0s 46ms/step - loss: 0.0080 - categorical_accuracy: 1.0000\n",
            "Epoch 253/300\n",
            "3/3 [==============================] - 0s 69ms/step - loss: 0.0061 - categorical_accuracy: 1.0000\n",
            "Epoch 254/300\n",
            "3/3 [==============================] - 0s 62ms/step - loss: 0.0081 - categorical_accuracy: 1.0000\n",
            "Epoch 255/300\n",
            "3/3 [==============================] - 0s 91ms/step - loss: 0.0060 - categorical_accuracy: 1.0000\n",
            "Epoch 256/300\n",
            "3/3 [==============================] - 0s 75ms/step - loss: 0.0099 - categorical_accuracy: 1.0000\n",
            "Epoch 257/300\n",
            "3/3 [==============================] - 0s 81ms/step - loss: 0.0084 - categorical_accuracy: 1.0000\n",
            "Epoch 258/300\n",
            "3/3 [==============================] - 0s 81ms/step - loss: 0.0072 - categorical_accuracy: 1.0000\n",
            "Epoch 259/300\n",
            "3/3 [==============================] - 0s 94ms/step - loss: 0.0060 - categorical_accuracy: 1.0000\n",
            "Epoch 260/300\n",
            "3/3 [==============================] - 0s 63ms/step - loss: 0.0070 - categorical_accuracy: 1.0000\n",
            "Epoch 261/300\n",
            "3/3 [==============================] - 0s 56ms/step - loss: 0.0101 - categorical_accuracy: 1.0000\n",
            "Epoch 262/300\n",
            "3/3 [==============================] - 0s 48ms/step - loss: 0.0091 - categorical_accuracy: 1.0000\n",
            "Epoch 263/300\n",
            "3/3 [==============================] - 0s 46ms/step - loss: 0.0080 - categorical_accuracy: 1.0000\n",
            "Epoch 264/300\n",
            "3/3 [==============================] - 0s 47ms/step - loss: 0.0073 - categorical_accuracy: 1.0000\n",
            "Epoch 265/300\n",
            "3/3 [==============================] - 0s 50ms/step - loss: 0.0087 - categorical_accuracy: 1.0000\n",
            "Epoch 266/300\n",
            "3/3 [==============================] - 0s 53ms/step - loss: 0.0101 - categorical_accuracy: 1.0000\n",
            "Epoch 267/300\n",
            "3/3 [==============================] - 0s 51ms/step - loss: 0.0071 - categorical_accuracy: 1.0000\n",
            "Epoch 268/300\n",
            "3/3 [==============================] - 0s 60ms/step - loss: 0.0111 - categorical_accuracy: 1.0000\n",
            "Epoch 269/300\n",
            "3/3 [==============================] - 0s 52ms/step - loss: 0.0093 - categorical_accuracy: 1.0000\n",
            "Epoch 270/300\n",
            "3/3 [==============================] - 0s 61ms/step - loss: 0.0062 - categorical_accuracy: 1.0000\n",
            "Epoch 271/300\n",
            "3/3 [==============================] - 0s 49ms/step - loss: 0.0069 - categorical_accuracy: 1.0000\n",
            "Epoch 272/300\n",
            "3/3 [==============================] - 0s 50ms/step - loss: 0.0144 - categorical_accuracy: 1.0000\n",
            "Epoch 273/300\n",
            "3/3 [==============================] - 0s 33ms/step - loss: 0.0064 - categorical_accuracy: 1.0000\n",
            "Epoch 274/300\n",
            "3/3 [==============================] - 0s 34ms/step - loss: 0.0066 - categorical_accuracy: 1.0000\n",
            "Epoch 275/300\n",
            "3/3 [==============================] - 0s 38ms/step - loss: 0.0085 - categorical_accuracy: 1.0000\n",
            "Epoch 276/300\n",
            "3/3 [==============================] - 0s 33ms/step - loss: 0.0047 - categorical_accuracy: 1.0000\n",
            "Epoch 277/300\n",
            "3/3 [==============================] - 0s 34ms/step - loss: 0.0073 - categorical_accuracy: 1.0000\n",
            "Epoch 278/300\n",
            "3/3 [==============================] - 0s 37ms/step - loss: 0.0102 - categorical_accuracy: 1.0000\n",
            "Epoch 279/300\n",
            "3/3 [==============================] - 0s 34ms/step - loss: 0.0067 - categorical_accuracy: 1.0000\n",
            "Epoch 280/300\n",
            "3/3 [==============================] - 0s 35ms/step - loss: 0.0075 - categorical_accuracy: 1.0000\n",
            "Epoch 281/300\n",
            "3/3 [==============================] - 0s 35ms/step - loss: 0.0080 - categorical_accuracy: 1.0000\n",
            "Epoch 282/300\n",
            "3/3 [==============================] - 0s 35ms/step - loss: 0.0097 - categorical_accuracy: 1.0000\n",
            "Epoch 283/300\n",
            "3/3 [==============================] - 0s 36ms/step - loss: 0.0082 - categorical_accuracy: 1.0000\n",
            "Epoch 284/300\n",
            "3/3 [==============================] - 0s 44ms/step - loss: 0.0083 - categorical_accuracy: 1.0000\n",
            "Epoch 285/300\n",
            "3/3 [==============================] - 0s 34ms/step - loss: 0.0069 - categorical_accuracy: 1.0000\n",
            "Epoch 286/300\n",
            "3/3 [==============================] - 0s 38ms/step - loss: 0.0070 - categorical_accuracy: 1.0000\n",
            "Epoch 287/300\n",
            "3/3 [==============================] - 0s 34ms/step - loss: 0.0079 - categorical_accuracy: 1.0000\n",
            "Epoch 288/300\n",
            "3/3 [==============================] - 0s 35ms/step - loss: 0.0064 - categorical_accuracy: 1.0000\n",
            "Epoch 289/300\n",
            "3/3 [==============================] - 0s 33ms/step - loss: 0.0103 - categorical_accuracy: 1.0000\n",
            "Epoch 290/300\n",
            "3/3 [==============================] - 0s 38ms/step - loss: 0.0059 - categorical_accuracy: 1.0000\n",
            "Epoch 291/300\n",
            "3/3 [==============================] - 0s 33ms/step - loss: 0.0120 - categorical_accuracy: 1.0000\n",
            "Epoch 292/300\n",
            "3/3 [==============================] - 0s 36ms/step - loss: 0.0058 - categorical_accuracy: 1.0000\n",
            "Epoch 293/300\n",
            "3/3 [==============================] - 0s 33ms/step - loss: 0.0054 - categorical_accuracy: 1.0000\n",
            "Epoch 294/300\n",
            "3/3 [==============================] - 0s 36ms/step - loss: 0.0110 - categorical_accuracy: 1.0000\n",
            "Epoch 295/300\n",
            "3/3 [==============================] - 0s 34ms/step - loss: 0.0078 - categorical_accuracy: 1.0000\n",
            "Epoch 296/300\n",
            "3/3 [==============================] - 0s 36ms/step - loss: 0.0077 - categorical_accuracy: 1.0000\n",
            "Epoch 297/300\n",
            "3/3 [==============================] - 0s 33ms/step - loss: 0.0053 - categorical_accuracy: 1.0000\n",
            "Epoch 298/300\n",
            "3/3 [==============================] - 0s 35ms/step - loss: 0.0108 - categorical_accuracy: 1.0000\n",
            "Epoch 299/300\n",
            "3/3 [==============================] - 0s 36ms/step - loss: 0.0078 - categorical_accuracy: 1.0000\n",
            "Epoch 300/300\n",
            "3/3 [==============================] - 0s 34ms/step - loss: 0.0065 - categorical_accuracy: 1.0000\n"
          ]
        },
        {
          "output_type": "execute_result",
          "data": {
            "text/plain": [
              "<keras.src.callbacks.History at 0x7ee173156650>"
            ]
          },
          "metadata": {},
          "execution_count": 28
        }
      ]
    },
    {
      "cell_type": "code",
      "source": [
        "from tensorflow.keras.models import save_model\n",
        "save_model(model,'modelv1.h5')"
      ],
      "metadata": {
        "colab": {
          "base_uri": "https://localhost:8080/"
        },
        "id": "uYFl1HpROy2I",
        "outputId": "56d4b74e-4306-4fe0-f5b3-4b7a49d9688b"
      },
      "execution_count": 29,
      "outputs": [
        {
          "output_type": "stream",
          "name": "stderr",
          "text": [
            "<ipython-input-29-af8c59f673a1>:2: UserWarning: You are saving your model as an HDF5 file via `model.save()`. This file format is considered legacy. We recommend using instead the native Keras format, e.g. `model.save('my_model.keras')`.\n",
            "  save_model(model,'modelv1.h5')\n"
          ]
        }
      ]
    },
    {
      "cell_type": "code",
      "source": [
        "model.summary()"
      ],
      "metadata": {
        "colab": {
          "base_uri": "https://localhost:8080/"
        },
        "id": "t1UriYFPO-aF",
        "outputId": "b6983a38-5ee2-4232-d45a-b02ac4310ddd"
      },
      "execution_count": 30,
      "outputs": [
        {
          "output_type": "stream",
          "name": "stdout",
          "text": [
            "Model: \"sequential\"\n",
            "_________________________________________________________________\n",
            " Layer (type)                Output Shape              Param #   \n",
            "=================================================================\n",
            " lstm (LSTM)                 (None, 20, 32)            20352     \n",
            "                                                                 \n",
            " dropout (Dropout)           (None, 20, 32)            0         \n",
            "                                                                 \n",
            " lstm_1 (LSTM)               (None, 20, 64)            24832     \n",
            "                                                                 \n",
            " dropout_1 (Dropout)         (None, 20, 64)            0         \n",
            "                                                                 \n",
            " lstm_2 (LSTM)               (None, 32)                12416     \n",
            "                                                                 \n",
            " dropout_2 (Dropout)         (None, 32)                0         \n",
            "                                                                 \n",
            " dense (Dense)               (None, 32)                1056      \n",
            "                                                                 \n",
            " dense_1 (Dense)             (None, 6)                 198       \n",
            "                                                                 \n",
            "=================================================================\n",
            "Total params: 58854 (229.90 KB)\n",
            "Trainable params: 58854 (229.90 KB)\n",
            "Non-trainable params: 0 (0.00 Byte)\n",
            "_________________________________________________________________\n"
          ]
        }
      ]
    },
    {
      "cell_type": "code",
      "source": [
        "model.save('colab_model.h5')"
      ],
      "metadata": {
        "colab": {
          "base_uri": "https://localhost:8080/"
        },
        "id": "QxXTAzoFPBJI",
        "outputId": "e7691458-9d2a-4ad9-e088-f62edd4a89ed"
      },
      "execution_count": 31,
      "outputs": [
        {
          "output_type": "stream",
          "name": "stderr",
          "text": [
            "/usr/local/lib/python3.10/dist-packages/keras/src/engine/training.py:3103: UserWarning: You are saving your model as an HDF5 file via `model.save()`. This file format is considered legacy. We recommend using instead the native Keras format, e.g. `model.save('my_model.keras')`.\n",
            "  saving_api.save_model(\n"
          ]
        }
      ]
    },
    {
      "cell_type": "code",
      "source": [
        "!pip install tensorflowjs"
      ],
      "metadata": {
        "colab": {
          "base_uri": "https://localhost:8080/",
          "height": 1000
        },
        "id": "F46G-fAHQL-R",
        "outputId": "1e8539cb-fbae-40e9-fd90-2c88569d657a"
      },
      "execution_count": 32,
      "outputs": [
        {
          "output_type": "stream",
          "name": "stdout",
          "text": [
            "Collecting tensorflowjs\n",
            "  Downloading tensorflowjs-4.17.0-py3-none-any.whl (89 kB)\n",
            "\u001b[2K     \u001b[90m━━━━━━━━━━━━━━━━━━━━━━━━━━━━━━━━━━━━━━━━\u001b[0m \u001b[32m89.1/89.1 kB\u001b[0m \u001b[31m1.8 MB/s\u001b[0m eta \u001b[36m0:00:00\u001b[0m\n",
            "\u001b[?25hRequirement already satisfied: flax>=0.7.2 in /usr/local/lib/python3.10/dist-packages (from tensorflowjs) (0.8.2)\n",
            "Requirement already satisfied: importlib_resources>=5.9.0 in /usr/local/lib/python3.10/dist-packages (from tensorflowjs) (6.4.0)\n",
            "Requirement already satisfied: jax>=0.4.13 in /usr/local/lib/python3.10/dist-packages (from tensorflowjs) (0.4.26)\n",
            "Requirement already satisfied: jaxlib>=0.4.13 in /usr/local/lib/python3.10/dist-packages (from tensorflowjs) (0.4.26+cuda12.cudnn89)\n",
            "Requirement already satisfied: tensorflow<3,>=2.13.0 in /usr/local/lib/python3.10/dist-packages (from tensorflowjs) (2.15.0)\n",
            "Collecting tensorflow-decision-forests>=1.5.0 (from tensorflowjs)\n",
            "  Downloading tensorflow_decision_forests-1.9.0-cp310-cp310-manylinux_2_17_x86_64.manylinux2014_x86_64.whl (15.5 MB)\n",
            "\u001b[2K     \u001b[90m━━━━━━━━━━━━━━━━━━━━━━━━━━━━━━━━━━━━━━━━\u001b[0m \u001b[32m15.5/15.5 MB\u001b[0m \u001b[31m29.9 MB/s\u001b[0m eta \u001b[36m0:00:00\u001b[0m\n",
            "\u001b[?25hRequirement already satisfied: six<2,>=1.16.0 in /usr/local/lib/python3.10/dist-packages (from tensorflowjs) (1.16.0)\n",
            "Requirement already satisfied: tensorflow-hub>=0.14.0 in /usr/local/lib/python3.10/dist-packages (from tensorflowjs) (0.16.1)\n",
            "Collecting packaging~=23.1 (from tensorflowjs)\n",
            "  Downloading packaging-23.2-py3-none-any.whl (53 kB)\n",
            "\u001b[2K     \u001b[90m━━━━━━━━━━━━━━━━━━━━━━━━━━━━━━━━━━━━━━━━\u001b[0m \u001b[32m53.0/53.0 kB\u001b[0m \u001b[31m6.5 MB/s\u001b[0m eta \u001b[36m0:00:00\u001b[0m\n",
            "\u001b[?25hRequirement already satisfied: numpy>=1.22 in /usr/local/lib/python3.10/dist-packages (from flax>=0.7.2->tensorflowjs) (1.25.2)\n",
            "Requirement already satisfied: msgpack in /usr/local/lib/python3.10/dist-packages (from flax>=0.7.2->tensorflowjs) (1.0.8)\n",
            "Requirement already satisfied: optax in /usr/local/lib/python3.10/dist-packages (from flax>=0.7.2->tensorflowjs) (0.2.2)\n",
            "Requirement already satisfied: orbax-checkpoint in /usr/local/lib/python3.10/dist-packages (from flax>=0.7.2->tensorflowjs) (0.4.4)\n",
            "Requirement already satisfied: tensorstore in /usr/local/lib/python3.10/dist-packages (from flax>=0.7.2->tensorflowjs) (0.1.45)\n",
            "Requirement already satisfied: rich>=11.1 in /usr/local/lib/python3.10/dist-packages (from flax>=0.7.2->tensorflowjs) (13.7.1)\n",
            "Requirement already satisfied: typing-extensions>=4.2 in /usr/local/lib/python3.10/dist-packages (from flax>=0.7.2->tensorflowjs) (4.11.0)\n",
            "Requirement already satisfied: PyYAML>=5.4.1 in /usr/local/lib/python3.10/dist-packages (from flax>=0.7.2->tensorflowjs) (6.0.1)\n",
            "Requirement already satisfied: ml-dtypes>=0.2.0 in /usr/local/lib/python3.10/dist-packages (from jax>=0.4.13->tensorflowjs) (0.2.0)\n",
            "Requirement already satisfied: opt-einsum in /usr/local/lib/python3.10/dist-packages (from jax>=0.4.13->tensorflowjs) (3.3.0)\n",
            "Requirement already satisfied: scipy>=1.9 in /usr/local/lib/python3.10/dist-packages (from jax>=0.4.13->tensorflowjs) (1.11.4)\n",
            "Requirement already satisfied: absl-py>=1.0.0 in /usr/local/lib/python3.10/dist-packages (from tensorflow<3,>=2.13.0->tensorflowjs) (1.4.0)\n",
            "Requirement already satisfied: astunparse>=1.6.0 in /usr/local/lib/python3.10/dist-packages (from tensorflow<3,>=2.13.0->tensorflowjs) (1.6.3)\n",
            "Requirement already satisfied: flatbuffers>=23.5.26 in /usr/local/lib/python3.10/dist-packages (from tensorflow<3,>=2.13.0->tensorflowjs) (24.3.25)\n",
            "Requirement already satisfied: gast!=0.5.0,!=0.5.1,!=0.5.2,>=0.2.1 in /usr/local/lib/python3.10/dist-packages (from tensorflow<3,>=2.13.0->tensorflowjs) (0.5.4)\n",
            "Requirement already satisfied: google-pasta>=0.1.1 in /usr/local/lib/python3.10/dist-packages (from tensorflow<3,>=2.13.0->tensorflowjs) (0.2.0)\n",
            "Requirement already satisfied: h5py>=2.9.0 in /usr/local/lib/python3.10/dist-packages (from tensorflow<3,>=2.13.0->tensorflowjs) (3.9.0)\n",
            "Requirement already satisfied: libclang>=13.0.0 in /usr/local/lib/python3.10/dist-packages (from tensorflow<3,>=2.13.0->tensorflowjs) (18.1.1)\n",
            "Requirement already satisfied: protobuf!=4.21.0,!=4.21.1,!=4.21.2,!=4.21.3,!=4.21.4,!=4.21.5,<5.0.0dev,>=3.20.3 in /usr/local/lib/python3.10/dist-packages (from tensorflow<3,>=2.13.0->tensorflowjs) (3.20.3)\n",
            "Requirement already satisfied: setuptools in /usr/local/lib/python3.10/dist-packages (from tensorflow<3,>=2.13.0->tensorflowjs) (67.7.2)\n",
            "Requirement already satisfied: termcolor>=1.1.0 in /usr/local/lib/python3.10/dist-packages (from tensorflow<3,>=2.13.0->tensorflowjs) (2.4.0)\n",
            "Requirement already satisfied: wrapt<1.15,>=1.11.0 in /usr/local/lib/python3.10/dist-packages (from tensorflow<3,>=2.13.0->tensorflowjs) (1.14.1)\n",
            "Requirement already satisfied: tensorflow-io-gcs-filesystem>=0.23.1 in /usr/local/lib/python3.10/dist-packages (from tensorflow<3,>=2.13.0->tensorflowjs) (0.36.0)\n",
            "Requirement already satisfied: grpcio<2.0,>=1.24.3 in /usr/local/lib/python3.10/dist-packages (from tensorflow<3,>=2.13.0->tensorflowjs) (1.62.1)\n",
            "Requirement already satisfied: tensorboard<2.16,>=2.15 in /usr/local/lib/python3.10/dist-packages (from tensorflow<3,>=2.13.0->tensorflowjs) (2.15.2)\n",
            "Requirement already satisfied: tensorflow-estimator<2.16,>=2.15.0 in /usr/local/lib/python3.10/dist-packages (from tensorflow<3,>=2.13.0->tensorflowjs) (2.15.0)\n",
            "Requirement already satisfied: keras<2.16,>=2.15.0 in /usr/local/lib/python3.10/dist-packages (from tensorflow<3,>=2.13.0->tensorflowjs) (2.15.0)\n",
            "Requirement already satisfied: pandas in /usr/local/lib/python3.10/dist-packages (from tensorflow-decision-forests>=1.5.0->tensorflowjs) (2.0.3)\n",
            "Collecting tensorflow<3,>=2.13.0 (from tensorflowjs)\n",
            "  Downloading tensorflow-2.16.1-cp310-cp310-manylinux_2_17_x86_64.manylinux2014_x86_64.whl (589.8 MB)\n",
            "\u001b[2K     \u001b[90m━━━━━━━━━━━━━━━━━━━━━━━━━━━━━━━━━━━━━━━━\u001b[0m \u001b[32m589.8/589.8 MB\u001b[0m \u001b[31m967.3 kB/s\u001b[0m eta \u001b[36m0:00:00\u001b[0m\n",
            "\u001b[?25hRequirement already satisfied: wheel in /usr/local/lib/python3.10/dist-packages (from tensorflow-decision-forests>=1.5.0->tensorflowjs) (0.43.0)\n",
            "Collecting wurlitzer (from tensorflow-decision-forests>=1.5.0->tensorflowjs)\n",
            "  Downloading wurlitzer-3.0.3-py3-none-any.whl (7.3 kB)\n",
            "Collecting tf-keras~=2.16 (from tensorflow-decision-forests>=1.5.0->tensorflowjs)\n",
            "  Downloading tf_keras-2.16.0-py3-none-any.whl (1.7 MB)\n",
            "\u001b[2K     \u001b[90m━━━━━━━━━━━━━━━━━━━━━━━━━━━━━━━━━━━━━━━━\u001b[0m \u001b[32m1.7/1.7 MB\u001b[0m \u001b[31m70.3 MB/s\u001b[0m eta \u001b[36m0:00:00\u001b[0m\n",
            "\u001b[?25hCollecting h5py>=3.10.0 (from tensorflow<3,>=2.13.0->tensorflowjs)\n",
            "  Downloading h5py-3.11.0-cp310-cp310-manylinux_2_17_x86_64.manylinux2014_x86_64.whl (5.3 MB)\n",
            "\u001b[2K     \u001b[90m━━━━━━━━━━━━━━━━━━━━━━━━━━━━━━━━━━━━━━━━\u001b[0m \u001b[32m5.3/5.3 MB\u001b[0m \u001b[31m60.7 MB/s\u001b[0m eta \u001b[36m0:00:00\u001b[0m\n",
            "\u001b[?25hCollecting ml-dtypes>=0.2.0 (from jax>=0.4.13->tensorflowjs)\n",
            "  Downloading ml_dtypes-0.3.2-cp310-cp310-manylinux_2_17_x86_64.manylinux2014_x86_64.whl (2.2 MB)\n",
            "\u001b[2K     \u001b[90m━━━━━━━━━━━━━━━━━━━━━━━━━━━━━━━━━━━━━━━━\u001b[0m \u001b[32m2.2/2.2 MB\u001b[0m \u001b[31m57.0 MB/s\u001b[0m eta \u001b[36m0:00:00\u001b[0m\n",
            "\u001b[?25hRequirement already satisfied: requests<3,>=2.21.0 in /usr/local/lib/python3.10/dist-packages (from tensorflow<3,>=2.13.0->tensorflowjs) (2.31.0)\n",
            "Collecting tensorboard<2.17,>=2.16 (from tensorflow<3,>=2.13.0->tensorflowjs)\n",
            "  Downloading tensorboard-2.16.2-py3-none-any.whl (5.5 MB)\n",
            "\u001b[2K     \u001b[90m━━━━━━━━━━━━━━━━━━━━━━━━━━━━━━━━━━━━━━━━\u001b[0m \u001b[32m5.5/5.5 MB\u001b[0m \u001b[31m60.8 MB/s\u001b[0m eta \u001b[36m0:00:00\u001b[0m\n",
            "\u001b[?25hCollecting keras>=3.0.0 (from tensorflow<3,>=2.13.0->tensorflowjs)\n",
            "  Downloading keras-3.2.1-py3-none-any.whl (1.1 MB)\n",
            "\u001b[2K     \u001b[90m━━━━━━━━━━━━━━━━━━━━━━━━━━━━━━━━━━━━━━━━\u001b[0m \u001b[32m1.1/1.1 MB\u001b[0m \u001b[31m43.4 MB/s\u001b[0m eta \u001b[36m0:00:00\u001b[0m\n",
            "\u001b[?25hCollecting namex (from keras>=3.0.0->tensorflow<3,>=2.13.0->tensorflowjs)\n",
            "  Downloading namex-0.0.8-py3-none-any.whl (5.8 kB)\n",
            "Collecting optree (from keras>=3.0.0->tensorflow<3,>=2.13.0->tensorflowjs)\n",
            "  Downloading optree-0.11.0-cp310-cp310-manylinux_2_17_x86_64.manylinux2014_x86_64.whl (311 kB)\n",
            "\u001b[2K     \u001b[90m━━━━━━━━━━━━━━━━━━━━━━━━━━━━━━━━━━━━━━━━\u001b[0m \u001b[32m311.2/311.2 kB\u001b[0m \u001b[31m28.5 MB/s\u001b[0m eta \u001b[36m0:00:00\u001b[0m\n",
            "\u001b[?25hRequirement already satisfied: charset-normalizer<4,>=2 in /usr/local/lib/python3.10/dist-packages (from requests<3,>=2.21.0->tensorflow<3,>=2.13.0->tensorflowjs) (3.3.2)\n",
            "Requirement already satisfied: idna<4,>=2.5 in /usr/local/lib/python3.10/dist-packages (from requests<3,>=2.21.0->tensorflow<3,>=2.13.0->tensorflowjs) (3.6)\n",
            "Requirement already satisfied: urllib3<3,>=1.21.1 in /usr/local/lib/python3.10/dist-packages (from requests<3,>=2.21.0->tensorflow<3,>=2.13.0->tensorflowjs) (2.0.7)\n",
            "Requirement already satisfied: certifi>=2017.4.17 in /usr/local/lib/python3.10/dist-packages (from requests<3,>=2.21.0->tensorflow<3,>=2.13.0->tensorflowjs) (2024.2.2)\n",
            "Requirement already satisfied: markdown-it-py>=2.2.0 in /usr/local/lib/python3.10/dist-packages (from rich>=11.1->flax>=0.7.2->tensorflowjs) (3.0.0)\n",
            "Requirement already satisfied: pygments<3.0.0,>=2.13.0 in /usr/local/lib/python3.10/dist-packages (from rich>=11.1->flax>=0.7.2->tensorflowjs) (2.16.1)\n",
            "Requirement already satisfied: markdown>=2.6.8 in /usr/local/lib/python3.10/dist-packages (from tensorboard<2.17,>=2.16->tensorflow<3,>=2.13.0->tensorflowjs) (3.6)\n",
            "Requirement already satisfied: tensorboard-data-server<0.8.0,>=0.7.0 in /usr/local/lib/python3.10/dist-packages (from tensorboard<2.17,>=2.16->tensorflow<3,>=2.13.0->tensorflowjs) (0.7.2)\n",
            "Requirement already satisfied: werkzeug>=1.0.1 in /usr/local/lib/python3.10/dist-packages (from tensorboard<2.17,>=2.16->tensorflow<3,>=2.13.0->tensorflowjs) (3.0.2)\n",
            "Requirement already satisfied: chex>=0.1.86 in /usr/local/lib/python3.10/dist-packages (from optax->flax>=0.7.2->tensorflowjs) (0.1.86)\n",
            "Requirement already satisfied: etils[epath,epy] in /usr/local/lib/python3.10/dist-packages (from orbax-checkpoint->flax>=0.7.2->tensorflowjs) (1.7.0)\n",
            "Requirement already satisfied: nest_asyncio in /usr/local/lib/python3.10/dist-packages (from orbax-checkpoint->flax>=0.7.2->tensorflowjs) (1.6.0)\n",
            "Requirement already satisfied: python-dateutil>=2.8.2 in /usr/local/lib/python3.10/dist-packages (from pandas->tensorflow-decision-forests>=1.5.0->tensorflowjs) (2.8.2)\n",
            "Requirement already satisfied: pytz>=2020.1 in /usr/local/lib/python3.10/dist-packages (from pandas->tensorflow-decision-forests>=1.5.0->tensorflowjs) (2023.4)\n",
            "Requirement already satisfied: tzdata>=2022.1 in /usr/local/lib/python3.10/dist-packages (from pandas->tensorflow-decision-forests>=1.5.0->tensorflowjs) (2024.1)\n",
            "Requirement already satisfied: toolz>=0.9.0 in /usr/local/lib/python3.10/dist-packages (from chex>=0.1.86->optax->flax>=0.7.2->tensorflowjs) (0.12.1)\n",
            "Requirement already satisfied: mdurl~=0.1 in /usr/local/lib/python3.10/dist-packages (from markdown-it-py>=2.2.0->rich>=11.1->flax>=0.7.2->tensorflowjs) (0.1.2)\n",
            "Requirement already satisfied: MarkupSafe>=2.1.1 in /usr/local/lib/python3.10/dist-packages (from werkzeug>=1.0.1->tensorboard<2.17,>=2.16->tensorflow<3,>=2.13.0->tensorflowjs) (2.1.5)\n",
            "Requirement already satisfied: fsspec in /usr/local/lib/python3.10/dist-packages (from etils[epath,epy]->orbax-checkpoint->flax>=0.7.2->tensorflowjs) (2023.6.0)\n",
            "Requirement already satisfied: zipp in /usr/local/lib/python3.10/dist-packages (from etils[epath,epy]->orbax-checkpoint->flax>=0.7.2->tensorflowjs) (3.18.1)\n",
            "Installing collected packages: namex, wurlitzer, packaging, optree, ml-dtypes, h5py, tensorboard, keras, tensorflow, tf-keras, tensorflow-decision-forests, tensorflowjs\n",
            "  Attempting uninstall: packaging\n",
            "    Found existing installation: packaging 24.0\n",
            "    Uninstalling packaging-24.0:\n",
            "      Successfully uninstalled packaging-24.0\n",
            "  Attempting uninstall: ml-dtypes\n",
            "    Found existing installation: ml-dtypes 0.2.0\n",
            "    Uninstalling ml-dtypes-0.2.0:\n",
            "      Successfully uninstalled ml-dtypes-0.2.0\n",
            "  Attempting uninstall: h5py\n",
            "    Found existing installation: h5py 3.9.0\n",
            "    Uninstalling h5py-3.9.0:\n",
            "      Successfully uninstalled h5py-3.9.0\n",
            "  Attempting uninstall: tensorboard\n",
            "    Found existing installation: tensorboard 2.15.2\n",
            "    Uninstalling tensorboard-2.15.2:\n",
            "      Successfully uninstalled tensorboard-2.15.2\n",
            "  Attempting uninstall: keras\n",
            "    Found existing installation: keras 2.15.0\n",
            "    Uninstalling keras-2.15.0:\n",
            "      Successfully uninstalled keras-2.15.0\n",
            "  Attempting uninstall: tensorflow\n",
            "    Found existing installation: tensorflow 2.15.0\n",
            "    Uninstalling tensorflow-2.15.0:\n",
            "      Successfully uninstalled tensorflow-2.15.0\n",
            "  Attempting uninstall: tf-keras\n",
            "    Found existing installation: tf_keras 2.15.1\n",
            "    Uninstalling tf_keras-2.15.1:\n",
            "      Successfully uninstalled tf_keras-2.15.1\n",
            "Successfully installed h5py-3.11.0 keras-3.2.1 ml-dtypes-0.3.2 namex-0.0.8 optree-0.11.0 packaging-23.2 tensorboard-2.16.2 tensorflow-2.16.1 tensorflow-decision-forests-1.9.0 tensorflowjs-4.17.0 tf-keras-2.16.0 wurlitzer-3.0.3\n"
          ]
        },
        {
          "output_type": "display_data",
          "data": {
            "application/vnd.colab-display-data+json": {
              "pip_warning": {
                "packages": [
                  "h5py",
                  "keras",
                  "ml_dtypes",
                  "tensorboard",
                  "tensorflow"
                ]
              },
              "id": "b3812ca76b564959b831eeb62b0b9453"
            }
          },
          "metadata": {}
        }
      ]
    },
    {
      "cell_type": "code",
      "source": [
        "import tensorflowjs as tfjs\n",
        "import numpy as np\n",
        "actions = np.array(['hello', 'thanks', 'repeat','please','goodbye','_'])"
      ],
      "metadata": {
        "id": "GJYqgpyxQPRF"
      },
      "execution_count": 1,
      "outputs": []
    },
    {
      "cell_type": "code",
      "source": [
        "!tensorflowjs_converter --input_format keras --output_format tfjs_layers_model ./modelv1.h5 ./tfjs_model"
      ],
      "metadata": {
        "colab": {
          "base_uri": "https://localhost:8080/"
        },
        "id": "T9VRnb6KQgUw",
        "outputId": "092aec38-326a-446a-8a68-da7da944d4fc"
      },
      "execution_count": 2,
      "outputs": [
        {
          "output_type": "stream",
          "name": "stdout",
          "text": [
            "2024-04-16 18:56:51.914548: W tensorflow/compiler/tf2tensorrt/utils/py_utils.cc:38] TF-TRT Warning: Could not find TensorRT\n"
          ]
        }
      ]
    },
    {
      "cell_type": "code",
      "source": [
        "!tensorflowjs_converter --input_format keras --output_format tfjs_layers_model ./colab_model.h5 ./tfjs_model"
      ],
      "metadata": {
        "colab": {
          "base_uri": "https://localhost:8080/"
        },
        "id": "Dm8K2HulRSgN",
        "outputId": "69f496a3-959a-4ba4-9a5f-c59c5cef9da7"
      },
      "execution_count": 3,
      "outputs": [
        {
          "output_type": "stream",
          "name": "stdout",
          "text": [
            "2024-04-16 18:57:26.334276: W tensorflow/compiler/tf2tensorrt/utils/py_utils.cc:38] TF-TRT Warning: Could not find TensorRT\n"
          ]
        }
      ]
    }
  ]
}